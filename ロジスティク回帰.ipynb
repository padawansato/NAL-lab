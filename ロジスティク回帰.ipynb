{
  "nbformat": 4,
  "nbformat_minor": 0,
  "metadata": {
    "colab": {
      "name": "ロジスティク回帰.ipynb",
      "version": "0.3.2",
      "provenance": [],
      "collapsed_sections": []
    },
    "kernelspec": {
      "name": "python3",
      "display_name": "Python 3"
    },
    "accelerator": "GPU"
  },
  "cells": [
    {
      "cell_type": "markdown",
      "metadata": {
        "id": "tWtgj2OmbRqF",
        "colab_type": "text"
      },
      "source": [
        "# colabの準備"
      ]
    },
    {
      "cell_type": "code",
      "metadata": {
        "id": "UuQ3dVgZAnTx",
        "colab_type": "code",
        "outputId": "9f0c3e89-e79c-4257-fec8-82d362444cf9",
        "colab": {
          "base_uri": "https://localhost:8080/",
          "height": 249
        }
      },
      "source": [
        "# !pip install hoge\n",
        "# ドライブをマウント\n",
        "from google.colab import drive\n",
        "drive.mount('/content/gdrive')\n",
        "# カレントディレクトリの変更\n",
        "import os\n",
        "os.chdir('/content/gdrive/My Drive/NAL-LAB/Colab Notebooks/')\n",
        "!pwd"
      ],
      "execution_count": 0,
      "outputs": [
        {
          "output_type": "stream",
          "text": [
            "Go to this URL in a browser: https://accounts.google.com/o/oauth2/auth?client_id=947318989803-6bn6qk8qdgf4n4g3pfee6491hc0brc4i.apps.googleusercontent.com&redirect_uri=urn%3Aietf%3Awg%3Aoauth%3A2.0%3Aoob&scope=email%20https%3A%2F%2Fwww.googleapis.com%2Fauth%2Fdocs.test%20https%3A%2F%2Fwww.googleapis.com%2Fauth%2Fdrive%20https%3A%2F%2Fwww.googleapis.com%2Fauth%2Fdrive.photos.readonly%20https%3A%2F%2Fwww.googleapis.com%2Fauth%2Fpeopleapi.readonly&response_type=code\n",
            "\n",
            "Enter your authorization code:\n",
            "··········\n",
            "Mounted at /content/gdrive\n",
            "/content/gdrive/My Drive/NAL-LAB/Colab Notebooks\n"
          ],
          "name": "stdout"
        }
      ]
    },
    {
      "cell_type": "code",
      "metadata": {
        "id": "y_vmL9x3HhTN",
        "colab_type": "code",
        "outputId": "0b5affab-1d7c-4c84-80a9-1ac482fd131c",
        "colab": {
          "base_uri": "https://localhost:8080/",
          "height": 310
        }
      },
      "source": [
        "# google colab で chainer などを使うための設定\n",
        "\n",
        "# colab の cuda に応じて、いい感じに chainer と Cupy をインストールするコマンド\n",
        "!curl https://colab.chainer.org/install | sh -\n",
        "\n",
        "# chainer のインストール確認コマンド"
      ],
      "execution_count": 0,
      "outputs": [
        {
          "output_type": "stream",
          "text": [
            "  % Total    % Received % Xferd  Average Speed   Time    Time     Time  Current\n",
            "                                 Dload  Upload   Total   Spent    Left  Speed\n",
            "\r  0     0    0     0    0     0      0      0 --:--:-- --:--:-- --:--:--     0\r100  1580  100  1580    0     0   8876      0 --:--:-- --:--:-- --:--:--  8926\n",
            "+ apt -y -q install cuda-libraries-dev-10-0\n",
            "Reading package lists...\n",
            "Building dependency tree...\n",
            "Reading state information...\n",
            "cuda-libraries-dev-10-0 is already the newest version (10.0.130-1).\n",
            "0 upgraded, 0 newly installed, 0 to remove and 8 not upgraded.\n",
            "+ pip install -q cupy-cuda100  chainer \n",
            "+ set +ex\n",
            "Installation succeeded!\n"
          ],
          "name": "stdout"
        }
      ]
    },
    {
      "cell_type": "markdown",
      "metadata": {
        "id": "btjWcx9ibMyP",
        "colab_type": "text"
      },
      "source": [
        "# ファイル読み込み"
      ]
    },
    {
      "cell_type": "code",
      "metadata": {
        "id": "3BsYJkblCf2M",
        "colab_type": "code",
        "colab": {}
      },
      "source": [
        "import numpy as np\n"
      ],
      "execution_count": 0,
      "outputs": []
    },
    {
      "cell_type": "code",
      "metadata": {
        "id": "U8TlSt_YbH12",
        "colab_type": "code",
        "colab": {}
      },
      "source": [
        "vector_list = np.loadtxt('vector.txt', delimiter=',', dtype='float64')"
      ],
      "execution_count": 0,
      "outputs": []
    },
    {
      "cell_type": "code",
      "metadata": {
        "id": "u5GjCrOZHXoP",
        "colab_type": "code",
        "outputId": "be161ca8-c631-445a-89d4-7151edd0467b",
        "colab": {
          "base_uri": "https://localhost:8080/",
          "height": 34
        }
      },
      "source": [
        "len(vector_list)"
      ],
      "execution_count": 0,
      "outputs": [
        {
          "output_type": "execute_result",
          "data": {
            "text/plain": [
              "38"
            ]
          },
          "metadata": {
            "tags": []
          },
          "execution_count": 25
        }
      ]
    },
    {
      "cell_type": "code",
      "metadata": {
        "id": "xJf_TI1Cbdcd",
        "colab_type": "code",
        "colab": {}
      },
      "source": [
        "tag_list = np.loadtxt('tag.txt', delimiter='\\n', dtype='int32')"
      ],
      "execution_count": 0,
      "outputs": []
    },
    {
      "cell_type": "code",
      "metadata": {
        "id": "Ha9g8KD4HcT3",
        "colab_type": "code",
        "colab": {}
      },
      "source": [
        "tag_list"
      ],
      "execution_count": 0,
      "outputs": []
    },
    {
      "cell_type": "code",
      "metadata": {
        "id": "I5uYpSgKiWBe",
        "colab_type": "code",
        "colab": {}
      },
      "source": [
        "with open(\"like.txt\") as f:\n",
        "    type(f)\n",
        "    like = [s.strip() for s in f.readlines()]"
      ],
      "execution_count": 0,
      "outputs": []
    },
    {
      "cell_type": "code",
      "metadata": {
        "id": "YNxxYxeJia8P",
        "colab_type": "code",
        "colab": {}
      },
      "source": [
        "like"
      ],
      "execution_count": 0,
      "outputs": []
    },
    {
      "cell_type": "code",
      "metadata": {
        "id": "II2gnVBhmInu",
        "colab_type": "code",
        "colab": {}
      },
      "source": [
        "## リストへ格納\n",
        "tf_idf_vector_list = np.loadtxt('tf-idf.txt', delimiter=',', dtype='float64')\n",
        "tf_vector_list = np.loadtxt('tf.txt', delimiter=',', dtype='float64')"
      ],
      "execution_count": 0,
      "outputs": []
    },
    {
      "cell_type": "code",
      "metadata": {
        "id": "EMv4OP4DmLVq",
        "colab_type": "code",
        "outputId": "3b951771-c9f2-4957-f94f-acd74e850571",
        "colab": {
          "base_uri": "https://localhost:8080/",
          "height": 34
        }
      },
      "source": [
        "len(tf_idf_vector_list)"
      ],
      "execution_count": 0,
      "outputs": [
        {
          "output_type": "execute_result",
          "data": {
            "text/plain": [
              "38"
            ]
          },
          "metadata": {
            "tags": []
          },
          "execution_count": 30
        }
      ]
    },
    {
      "cell_type": "code",
      "metadata": {
        "id": "RGzhtbotbrAR",
        "colab_type": "code",
        "colab": {}
      },
      "source": [
        "# リストの結合\n",
        "vectors = list(zip(vector_list,tag_list))\n",
        "data = vectors"
      ],
      "execution_count": 0,
      "outputs": []
    },
    {
      "cell_type": "code",
      "metadata": {
        "id": "JBEBjza2datT",
        "colab_type": "code",
        "colab": {}
      },
      "source": [
        "# データ分割\n",
        "import pandas as pd\n",
        "from sklearn.model_selection import train_test_split"
      ],
      "execution_count": 0,
      "outputs": []
    },
    {
      "cell_type": "code",
      "metadata": {
        "id": "d43HLAp5dkQB",
        "colab_type": "code",
        "outputId": "e339a3a3-a108-4704-cf26-73b44446da40",
        "colab": {
          "base_uri": "https://localhost:8080/",
          "height": 91
        }
      },
      "source": [
        "# array1, array2 をそれぞれ分割する。\n",
        "# 結果をシードで指定\n",
        "data_train, data_test, labels_train, labels_test = train_test_split(vector_list, tag_list, train_size=0.75,random_state=10)\n",
        "tf_data_train, tf_data_test, tf_labels_train, tf_labels_test = train_test_split(tf_vector_list, tag_list, train_size=0.75,random_state=10)\n",
        "tf_idf_data_train, tf_idf_data_test,tf_idf_labels_train, tf_idf_labels_test = train_test_split(tf_idf_vector_list, tag_list, train_size=0.75,random_state=10)"
      ],
      "execution_count": 0,
      "outputs": [
        {
          "output_type": "stream",
          "text": [
            "/usr/local/lib/python3.6/dist-packages/sklearn/model_selection/_split.py:2179: FutureWarning: From version 0.21, test_size will always complement train_size unless both are specified.\n",
            "  FutureWarning)\n"
          ],
          "name": "stderr"
        }
      ]
    },
    {
      "cell_type": "code",
      "metadata": {
        "id": "fqOi1cA0d04Z",
        "colab_type": "code",
        "colab": {}
      },
      "source": [
        "data_test"
      ],
      "execution_count": 0,
      "outputs": []
    },
    {
      "cell_type": "markdown",
      "metadata": {
        "id": "8xcDXpfRaXEf",
        "colab_type": "text"
      },
      "source": [
        "# ベイズ分類\n"
      ]
    },
    {
      "cell_type": "code",
      "metadata": {
        "id": "U1CbLlV6cfZ5",
        "colab_type": "code",
        "outputId": "a2780dfd-56cc-40cc-e8d5-c7c9271b3d71",
        "colab": {
          "base_uri": "https://localhost:8080/",
          "height": 170
        }
      },
      "source": [
        "import numpy as np\n",
        "from sklearn.naive_bayes import GaussianNB, BernoulliNB , MultinomialNB# ガウシアン\n",
        "print(\"Doc2Vec:\")\n",
        "clf = GaussianNB() # 正規分布を仮定したベイズ分類\n",
        "clf.fit(data_train, labels_train) # 学習をする\n",
        "print(\"Test set score Gaussian: {:.2f}\".format(clf.score(data_test, labels_test)))\n",
        "\n",
        "bclf = BernoulliNB()\n",
        "bclf.fit(data_train, labels_train)\n",
        "print(\"Test set score Bernoulli: {:.2f}\".format(bclf.score(data_test, labels_test)))\n",
        "print(\"TF:\")\n",
        "tf_clf = GaussianNB() # 正規分布を仮定したベイズ分類\n",
        "tf_clf.fit(tf_data_train, tf_labels_train) # 学習をする\n",
        "print(\"Test set score Gaussian: {:.2f}\".format(tf_clf.score(tf_data_test, tf_labels_test)))\n",
        "\n",
        "tf_bclf = BernoulliNB()\n",
        "tf_bclf.fit(tf_data_train, tf_labels_train)\n",
        "print(\"Test set score Bernoulli: {:.2f}\".format(tf_bclf.score(tf_data_test, tf_labels_test)))\n",
        "\n",
        "print(\"TF-IDF\")\n",
        "tf_idf_clf = GaussianNB() # 正規分布を仮定したベイズ分類\n",
        "tf_idf_clf.fit(tf_idf_data_train, tf_idf_labels_train) # 学習をする\n",
        "print(\"Test set score Gaussian: {:.2f}\".format(tf_idf_clf.score(tf_idf_data_test, tf_idf_labels_test)))\n",
        "\n",
        "tf_idf_bclf = BernoulliNB()\n",
        "tf_idf_bclf.fit(tf_idf_data_train, tf_idf_labels_train)\n",
        "print(\"Test set score Bernoulli: {:.2f}\".format(tf_idf_bclf.score(tf_idf_data_test, tf_idf_labels_test)))\n",
        "\n",
        "\n",
        "\n",
        "\n",
        "# mclf = MultinomialNB()\n",
        "# mclf.fit(data_train, labels_train)\n",
        "# print(\"Test set score Multinomial: {:.2f}\".format(mclf.score(data_test, labels_test)))"
      ],
      "execution_count": 0,
      "outputs": [
        {
          "output_type": "stream",
          "text": [
            "Doc2Vec:\n",
            "Test set score Gaussian: 0.38\n",
            "Test set score Bernoulli: 0.62\n",
            "TF:\n",
            "Test set score Gaussian: 0.62\n",
            "Test set score Bernoulli: 0.75\n",
            "TF-IDF\n",
            "Test set score Gaussian: 0.38\n",
            "Test set score Bernoulli: 0.75\n"
          ],
          "name": "stdout"
        }
      ]
    },
    {
      "cell_type": "markdown",
      "metadata": {
        "id": "2yZkFeDy4hDp",
        "colab_type": "text"
      },
      "source": [
        ""
      ]
    },
    {
      "cell_type": "code",
      "metadata": {
        "id": "JMcpPDMKfvCu",
        "colab_type": "code",
        "outputId": "bcc37e7a-5675-4a97-cd14-738ff2aefcca",
        "colab": {
          "base_uri": "https://localhost:8080/",
          "height": 91
        }
      },
      "source": [
        " labels_train"
      ],
      "execution_count": 0,
      "outputs": [
        {
          "output_type": "execute_result",
          "data": {
            "text/plain": [
              "array([0, 1, 1, 0, 1, 1, 1, 0, 1, 1, 0, 1, 1, 1, 0, 0, 1, 0, 1, 0, 1, 0,\n",
              "       0, 0, 1, 1, 0, 1], dtype=int32)"
            ]
          },
          "metadata": {
            "tags": []
          },
          "execution_count": 111
        }
      ]
    },
    {
      "cell_type": "markdown",
      "metadata": {
        "id": "mqkwpzDRsOpR",
        "colab_type": "text"
      },
      "source": [
        "# ロジスティクス回帰"
      ]
    },
    {
      "cell_type": "code",
      "metadata": {
        "id": "7CttJoV0gHSn",
        "colab_type": "code",
        "outputId": "5ac7f9d3-02c6-4896-c85f-bef069dae12e",
        "colab": {
          "base_uri": "https://localhost:8080/",
          "height": 91
        }
      },
      "source": [
        "from sklearn.datasets import make_blobs\n",
        "from sklearn.linear_model import LogisticRegression\n",
        "from sklearn.model_selection import train_test_split\n",
        "\n",
        "logreg = LogisticRegression().fit(data_train, labels_train)#トレーニング用データで学習させ"
      ],
      "execution_count": 0,
      "outputs": [
        {
          "output_type": "stream",
          "text": [
            "/usr/local/lib/python3.6/dist-packages/sklearn/linear_model/logistic.py:433: FutureWarning: Default solver will be changed to 'lbfgs' in 0.22. Specify a solver to silence this warning.\n",
            "  FutureWarning)\n"
          ],
          "name": "stderr"
        }
      ]
    },
    {
      "cell_type": "code",
      "metadata": {
        "id": "eWAUdkyl7iWM",
        "colab_type": "code",
        "outputId": "654a4298-cab5-49f0-d6dd-17998039e2f2",
        "colab": {
          "base_uri": "https://localhost:8080/",
          "height": 34
        }
      },
      "source": [
        "# ロジスティクス回帰でdoc2vecによるベクトル化を分類\n",
        "print(\"Test set score: {:.2f}\".format(logreg.score(data_test, labels_test)))#テスト用データで精度を測る"
      ],
      "execution_count": 0,
      "outputs": [
        {
          "output_type": "stream",
          "text": [
            "Test set score: 0.62\n"
          ],
          "name": "stdout"
        }
      ]
    },
    {
      "cell_type": "markdown",
      "metadata": {
        "id": "IKzy8o6YZJov",
        "colab_type": "text"
      },
      "source": [
        "# 交差検証\n",
        "k分割交差検証"
      ]
    },
    {
      "cell_type": "code",
      "metadata": {
        "id": "1iQMaJQilEUu",
        "colab_type": "code",
        "colab": {}
      },
      "source": [
        "from sklearn.model_selection import cross_val_score\n",
        "from sklearn.linear_model import LogisticRegression"
      ],
      "execution_count": 0,
      "outputs": []
    },
    {
      "cell_type": "code",
      "metadata": {
        "id": "xP3C3JDqZX3W",
        "colab_type": "code",
        "outputId": "f76f5405-888f-44a5-90d8-99d150ea7ddd",
        "colab": {
          "base_uri": "https://localhost:8080/",
          "height": 91
        }
      },
      "source": [
        "logreg = LogisticRegression().fit(data_train, labels_train)"
      ],
      "execution_count": 0,
      "outputs": [
        {
          "output_type": "stream",
          "text": [
            "/usr/local/lib/python3.6/dist-packages/sklearn/linear_model/logistic.py:433: FutureWarning: Default solver will be changed to 'lbfgs' in 0.22. Specify a solver to silence this warning.\n",
            "  FutureWarning)\n"
          ],
          "name": "stderr"
        }
      ]
    },
    {
      "cell_type": "code",
      "metadata": {
        "id": "Wa7CRIJx_frS",
        "colab_type": "code",
        "colab": {}
      },
      "source": [
        "# Doc2Vecのベクトルについて"
      ],
      "execution_count": 0,
      "outputs": []
    },
    {
      "cell_type": "code",
      "metadata": {
        "id": "52HUZINSZjta",
        "colab_type": "code",
        "outputId": "7d5ef283-ff99-4e62-928e-e29d06b2e06e",
        "colab": {
          "base_uri": "https://localhost:8080/",
          "height": 227
        }
      },
      "source": [
        "# cross_val_scoreでk分割交差検証\n",
        "scores = cross_val_score(logreg, data_test, labels_test,cv=4)\n",
        "print(\"Cross-validation scores: {}\".format(scores))\n",
        "# 平均をとって\n",
        "print(\"Average cross-validation score: {:.2f}\".format(scores.mean()))"
      ],
      "execution_count": 0,
      "outputs": [
        {
          "output_type": "stream",
          "text": [
            "Cross-validation scores: [1.  0.  0.5 0.5]\n",
            "Average cross-validation score: 0.50\n"
          ],
          "name": "stdout"
        },
        {
          "output_type": "stream",
          "text": [
            "/usr/local/lib/python3.6/dist-packages/sklearn/linear_model/logistic.py:433: FutureWarning: Default solver will be changed to 'lbfgs' in 0.22. Specify a solver to silence this warning.\n",
            "  FutureWarning)\n",
            "/usr/local/lib/python3.6/dist-packages/sklearn/linear_model/logistic.py:433: FutureWarning: Default solver will be changed to 'lbfgs' in 0.22. Specify a solver to silence this warning.\n",
            "  FutureWarning)\n",
            "/usr/local/lib/python3.6/dist-packages/sklearn/linear_model/logistic.py:433: FutureWarning: Default solver will be changed to 'lbfgs' in 0.22. Specify a solver to silence this warning.\n",
            "  FutureWarning)\n",
            "/usr/local/lib/python3.6/dist-packages/sklearn/linear_model/logistic.py:433: FutureWarning: Default solver will be changed to 'lbfgs' in 0.22. Specify a solver to silence this warning.\n",
            "  FutureWarning)\n"
          ],
          "name": "stderr"
        }
      ]
    },
    {
      "cell_type": "code",
      "metadata": {
        "id": "4-UCCsqq_koj",
        "colab_type": "code",
        "colab": {}
      },
      "source": [
        "# tf"
      ],
      "execution_count": 0,
      "outputs": []
    },
    {
      "cell_type": "code",
      "metadata": {
        "id": "VbNSqlIi_rPn",
        "colab_type": "code",
        "outputId": "17e20c4d-8c75-45cb-9e58-55d949d8a7f4",
        "colab": {
          "base_uri": "https://localhost:8080/",
          "height": 91
        }
      },
      "source": [
        "tf_logreg = LogisticRegression().fit(tf_data_train, tf_labels_train)"
      ],
      "execution_count": 0,
      "outputs": [
        {
          "output_type": "stream",
          "text": [
            "/usr/local/lib/python3.6/dist-packages/sklearn/linear_model/logistic.py:433: FutureWarning: Default solver will be changed to 'lbfgs' in 0.22. Specify a solver to silence this warning.\n",
            "  FutureWarning)\n"
          ],
          "name": "stderr"
        }
      ]
    },
    {
      "cell_type": "code",
      "metadata": {
        "id": "KbmB2_3MaEfC",
        "colab_type": "code",
        "outputId": "00847cad-588c-4ff0-e43e-89e52357d06e",
        "colab": {
          "base_uri": "https://localhost:8080/",
          "height": 227
        }
      },
      "source": [
        "scores = cross_val_score(tf_logreg, tf_data_test, tf_labels_test)\n",
        "print(\"Cross-validation scores: {}\".format(scores))\n",
        "print(\"Average cross-validation score: {:.2f}\".format(scores.mean()))"
      ],
      "execution_count": 0,
      "outputs": [
        {
          "output_type": "stream",
          "text": [
            "Cross-validation scores: [0.66666667 0.66666667 0.5       ]\n",
            "Average cross-validation score: 0.61\n"
          ],
          "name": "stdout"
        },
        {
          "output_type": "stream",
          "text": [
            "/usr/local/lib/python3.6/dist-packages/sklearn/model_selection/_split.py:2053: FutureWarning: You should specify a value for 'cv' instead of relying on the default value. The default value will change from 3 to 5 in version 0.22.\n",
            "  warnings.warn(CV_WARNING, FutureWarning)\n",
            "/usr/local/lib/python3.6/dist-packages/sklearn/linear_model/logistic.py:433: FutureWarning: Default solver will be changed to 'lbfgs' in 0.22. Specify a solver to silence this warning.\n",
            "  FutureWarning)\n",
            "/usr/local/lib/python3.6/dist-packages/sklearn/linear_model/logistic.py:433: FutureWarning: Default solver will be changed to 'lbfgs' in 0.22. Specify a solver to silence this warning.\n",
            "  FutureWarning)\n",
            "/usr/local/lib/python3.6/dist-packages/sklearn/linear_model/logistic.py:433: FutureWarning: Default solver will be changed to 'lbfgs' in 0.22. Specify a solver to silence this warning.\n",
            "  FutureWarning)\n"
          ],
          "name": "stderr"
        }
      ]
    },
    {
      "cell_type": "code",
      "metadata": {
        "id": "aHVuVQGGayKC",
        "colab_type": "code",
        "outputId": "03f86e57-2226-41a3-d0fa-63f5bff9948b",
        "colab": {
          "base_uri": "https://localhost:8080/",
          "height": 448
        }
      },
      "source": [
        "# cross_val_scoreでk分割交差検証\n",
        "scores = cross_val_score(logreg, tf_data_train, tf_labels_train,cv=10)\n",
        "print(\"Cross-validation scores: {}\".format(scores))\n",
        "# 平均をとって\n",
        "print(\"Average cross-validation score: {:.2f}\".format(scores.mean()))"
      ],
      "execution_count": 0,
      "outputs": [
        {
          "output_type": "stream",
          "text": [
            "Cross-validation scores: [0.5        0.5        0.66666667 0.66666667 0.66666667 1.\n",
            " 0.66666667 0.66666667 0.5        0.5       ]\n",
            "Average cross-validation score: 0.63\n"
          ],
          "name": "stdout"
        },
        {
          "output_type": "stream",
          "text": [
            "/usr/local/lib/python3.6/dist-packages/sklearn/linear_model/logistic.py:433: FutureWarning: Default solver will be changed to 'lbfgs' in 0.22. Specify a solver to silence this warning.\n",
            "  FutureWarning)\n",
            "/usr/local/lib/python3.6/dist-packages/sklearn/linear_model/logistic.py:433: FutureWarning: Default solver will be changed to 'lbfgs' in 0.22. Specify a solver to silence this warning.\n",
            "  FutureWarning)\n",
            "/usr/local/lib/python3.6/dist-packages/sklearn/linear_model/logistic.py:433: FutureWarning: Default solver will be changed to 'lbfgs' in 0.22. Specify a solver to silence this warning.\n",
            "  FutureWarning)\n",
            "/usr/local/lib/python3.6/dist-packages/sklearn/linear_model/logistic.py:433: FutureWarning: Default solver will be changed to 'lbfgs' in 0.22. Specify a solver to silence this warning.\n",
            "  FutureWarning)\n",
            "/usr/local/lib/python3.6/dist-packages/sklearn/linear_model/logistic.py:433: FutureWarning: Default solver will be changed to 'lbfgs' in 0.22. Specify a solver to silence this warning.\n",
            "  FutureWarning)\n",
            "/usr/local/lib/python3.6/dist-packages/sklearn/linear_model/logistic.py:433: FutureWarning: Default solver will be changed to 'lbfgs' in 0.22. Specify a solver to silence this warning.\n",
            "  FutureWarning)\n",
            "/usr/local/lib/python3.6/dist-packages/sklearn/linear_model/logistic.py:433: FutureWarning: Default solver will be changed to 'lbfgs' in 0.22. Specify a solver to silence this warning.\n",
            "  FutureWarning)\n",
            "/usr/local/lib/python3.6/dist-packages/sklearn/linear_model/logistic.py:433: FutureWarning: Default solver will be changed to 'lbfgs' in 0.22. Specify a solver to silence this warning.\n",
            "  FutureWarning)\n",
            "/usr/local/lib/python3.6/dist-packages/sklearn/linear_model/logistic.py:433: FutureWarning: Default solver will be changed to 'lbfgs' in 0.22. Specify a solver to silence this warning.\n",
            "  FutureWarning)\n",
            "/usr/local/lib/python3.6/dist-packages/sklearn/linear_model/logistic.py:433: FutureWarning: Default solver will be changed to 'lbfgs' in 0.22. Specify a solver to silence this warning.\n",
            "  FutureWarning)\n"
          ],
          "name": "stderr"
        }
      ]
    },
    {
      "cell_type": "markdown",
      "metadata": {
        "id": "RIK2Z-WCgyB4",
        "colab_type": "text"
      },
      "source": [
        "# ベイズ分類でk分割交差検証"
      ]
    },
    {
      "cell_type": "code",
      "metadata": {
        "id": "BcebOLI95Egb",
        "colab_type": "code",
        "outputId": "70d6ec03-1399-40cd-9181-d5012bc7252e",
        "colab": {
          "base_uri": "https://localhost:8080/",
          "height": 374
        }
      },
      "source": [
        "import numpy as np\n",
        "from sklearn.model_selection import cross_val_score\n",
        "from sklearn.naive_bayes import GaussianNB, BernoulliNB , MultinomialNB# ガウシアン\n",
        "\n",
        "print(\"Doc2Vec:\")\n",
        "clf = GaussianNB() # 正規分布を仮定したベイズ分類\n",
        "clf.fit(data_train, labels_train) # 学習をする\n",
        "clf_pred = clf.predict(data_test) # 予測\n",
        "print(\"Test set score Gaussian: {:.2f}\".format(clf.score(data_test, labels_test)))\n",
        "scores = cross_val_score(clf, data_test, labels_test,cv=4)\n",
        "print(\"Average cross-validation score: {:.2f}\".format(scores.mean()))\n",
        "print(\"Cross-validation scores: {}\".format(scores))\n",
        "\n",
        "\n",
        "bclf = BernoulliNB()\n",
        "bclf.fit(data_train, labels_train)\n",
        "bclf_pred = bclf.predict(data_test) # 予測\n",
        "print(\"Test set score Bernoulli: {:.2f}\".format(bclf.score(data_test, labels_test)))\n",
        "scores = cross_val_score(bclf, data_test, labels_test,cv=4)\n",
        "print(\"Average cross-validation score: {:.2f}\".format(scores.mean()))\n",
        "print(\"Cross-validation scores: {}\".format(scores))\n",
        "\n",
        "\n",
        "print(\"TF:\")\n",
        "tf_clf = GaussianNB() # 正規分布を仮定したベイズ分類\n",
        "tf_clf.fit(tf_data_train, tf_labels_train) # 学習をする\n",
        "tf_clf_pred = tf_clf.predict(tf_data_test) # 予測\n",
        "print(\"Test set score Gaussian: {:.2f}\".format(tf_clf.score(tf_data_test, tf_labels_test)))\n",
        "scores = cross_val_score(tf_clf, tf_data_test, tf_labels_test,cv=4)\n",
        "print(\"Average cross-validation score: {:.2f}\".format(scores.mean()))\n",
        "print(\"Cross-validation scores: {}\".format(scores))\n",
        "\n",
        "\n",
        "tf_bclf = BernoulliNB()\n",
        "tf_bclf.fit(tf_data_train, tf_labels_train)\n",
        "tf_bclf_pred = tf_bclf.predict(tf_data_test) # 予測\n",
        "print(\"Test set score Bernoulli: {:.2f}\".format(tf_bclf.score(tf_data_test, tf_labels_test)))\n",
        "scores = cross_val_score(tf_bclf, tf_data_test, tf_labels_test,cv=4)\n",
        "print(\"Average cross-validation score: {:.2f}\".format(scores.mean()))\n",
        "print(\"Cross-validation scores: {}\".format(scores))\n",
        "\n",
        "\n",
        "print(\"TF-IDF\")\n",
        "tf_idf_clf = GaussianNB() # 正規分布を仮定したベイズ分類\n",
        "tf_idf_clf.fit(tf_idf_data_train, tf_idf_labels_train) # 学習をする\n",
        "tf_idf_clf_pred = tf_idf_clf.predict(tf_idf_data_test) # 予測\n",
        "print(\"Test set score Gaussian: {:.2f}\".format(tf_idf_clf.score(tf_idf_data_test, tf_idf_labels_test)))\n",
        "scores = cross_val_score(tf_idf_clf, tf_idf_data_test, tf_idf_labels_test,cv=4)\n",
        "print(\"Average cross-validation score: {:.2f}\".format(scores.mean()))\n",
        "print(\"Cross-validation scores: {}\".format(scores))\n",
        "\n",
        "\n",
        "tf_idf_bclf = BernoulliNB()\n",
        "tf_idf_bclf.fit(tf_idf_data_train, tf_idf_labels_train)\n",
        "tf_idf_bclf_pred = tf_idf_bclf.predict(tf_idf_data_test) # 予測\n",
        "print(\"Test set score Bernoulli: {:.2f}\".format(tf_idf_bclf.score(tf_idf_data_test, tf_idf_labels_test)))\n",
        "scores = cross_val_score(tf_idf_bclf, tf_idf_data_test, tf_idf_labels_test,cv=4)\n",
        "print(\"Average cross-validation score: {:.2f}\".format(scores.mean()))\n",
        "print(\"Cross-validation scores: {}\".format(scores))\n"
      ],
      "execution_count": 0,
      "outputs": [
        {
          "output_type": "stream",
          "text": [
            "Doc2Vec:\n",
            "Test set score Gaussian: 0.50\n",
            "Average cross-validation score: 0.50\n",
            "Cross-validation scores: [0.5 0.5 0.5 0.5]\n",
            "Test set score Bernoulli: 0.88\n",
            "Average cross-validation score: 0.50\n",
            "Cross-validation scores: [1.  0.5 0.  0.5]\n",
            "TF:\n",
            "Test set score Gaussian: 0.38\n",
            "Average cross-validation score: 1.00\n",
            "Cross-validation scores: [1. 1. 1. 1.]\n",
            "Test set score Bernoulli: 0.50\n",
            "Average cross-validation score: 0.62\n",
            "Cross-validation scores: [0.5 0.5 0.5 1. ]\n",
            "TF-IDF\n",
            "Test set score Gaussian: 0.38\n",
            "Average cross-validation score: 1.00\n",
            "Cross-validation scores: [1. 1. 1. 1.]\n",
            "Test set score Bernoulli: 0.50\n",
            "Average cross-validation score: 0.62\n",
            "Cross-validation scores: [0.5 0.5 0.5 1. ]\n"
          ],
          "name": "stdout"
        }
      ]
    },
    {
      "cell_type": "markdown",
      "metadata": {
        "id": "Kat3EK6L6UEL",
        "colab_type": "text"
      },
      "source": [
        "# ロジスティック回帰でk分割交差検証\n",
        "TFにエラーを吐くので,中止\n",
        "ValueError: operands could not be broadcast together with shapes (8,212) (300,) \n"
      ]
    },
    {
      "cell_type": "code",
      "metadata": {
        "id": "rmVby-C4D9n1",
        "colab_type": "code",
        "outputId": "b02fb21d-78fb-4216-99d2-e9ec88f187fc",
        "colab": {
          "base_uri": "https://localhost:8080/",
          "height": 108
        }
      },
      "source": [
        "import numpy as np\n",
        "from sklearn.model_selection import cross_val_score\n",
        "from sklearn.linear_model import LogisticRegression\n",
        "from sklearn.model_selection import train_test_split\n",
        "\n",
        "logreg = LogisticRegression().fit(data_train, labels_train)#トレーニング用データで学習させ\n",
        "# ロジスティクス回帰でdoc2vecによるベクトル化を分類\n",
        "print(\"Test set score: {:.2f}\".format(logreg.score(data_test, labels_test)))#テスト用データで精度を測る"
      ],
      "execution_count": 0,
      "outputs": [
        {
          "output_type": "stream",
          "text": [
            "Test set score: 0.62\n"
          ],
          "name": "stdout"
        },
        {
          "output_type": "stream",
          "text": [
            "/usr/local/lib/python3.6/dist-packages/sklearn/linear_model/logistic.py:433: FutureWarning: Default solver will be changed to 'lbfgs' in 0.22. Specify a solver to silence this warning.\n",
            "  FutureWarning)\n"
          ],
          "name": "stderr"
        }
      ]
    },
    {
      "cell_type": "code",
      "metadata": {
        "id": "TWCQ5OwRF4TO",
        "colab_type": "code",
        "colab": {}
      },
      "source": [
        ""
      ],
      "execution_count": 0,
      "outputs": []
    },
    {
      "cell_type": "code",
      "metadata": {
        "id": "57v6MhwOFNKz",
        "colab_type": "code",
        "outputId": "7012e8b4-7214-46a4-a131-0d7a7e2d1ffc",
        "colab": {
          "base_uri": "https://localhost:8080/",
          "height": 918
        }
      },
      "source": [
        "print(\"Doc2Vec:\")\n",
        "logreg = LogisticRegression().fit(data_train, labels_train)#トレーニング用データで学習させ\n",
        "print(\"Test set score Gaussian: {:.2f}\".format(clf.score(data_test, labels_test)))\n",
        "scores = cross_val_score(logreg, data_test, labels_test)\n",
        "print(\"Average cross-validation score: {:.2f}\".format(scores.mean()))\n",
        "print(\"Cross-validation scores: {}\".format(scores))\n",
        "\n",
        "print(\"TF:\")\n",
        "logreg = LogisticRegression().fit(tf_data_train, tf_labels_train)#トレーニング用データで学習させ\n",
        "print(\"Test set score Gaussian: {:.2f}\".format(clf.score(tf_data_test, tf_labels_test)))\n",
        "scores = cross_val_score(logreg, tf_data_test, tf_labels_test)\n",
        "print(\"Average cross-validation score: {:.2f}\".format(scores.mean()))\n",
        "print(\"Cross-validation scores: {}\".format(scores))"
      ],
      "execution_count": 0,
      "outputs": [
        {
          "output_type": "stream",
          "text": [
            "Doc2Vec:\n",
            "Test set score Gaussian: 0.38\n",
            "Average cross-validation score: 0.39\n",
            "Cross-validation scores: [0.33333333 0.33333333 0.5       ]\n",
            "TF:\n"
          ],
          "name": "stdout"
        },
        {
          "output_type": "stream",
          "text": [
            "/usr/local/lib/python3.6/dist-packages/sklearn/linear_model/logistic.py:433: FutureWarning: Default solver will be changed to 'lbfgs' in 0.22. Specify a solver to silence this warning.\n",
            "  FutureWarning)\n",
            "/usr/local/lib/python3.6/dist-packages/sklearn/model_selection/_split.py:2053: FutureWarning: You should specify a value for 'cv' instead of relying on the default value. The default value will change from 3 to 5 in version 0.22.\n",
            "  warnings.warn(CV_WARNING, FutureWarning)\n",
            "/usr/local/lib/python3.6/dist-packages/sklearn/linear_model/logistic.py:433: FutureWarning: Default solver will be changed to 'lbfgs' in 0.22. Specify a solver to silence this warning.\n",
            "  FutureWarning)\n",
            "/usr/local/lib/python3.6/dist-packages/sklearn/linear_model/logistic.py:433: FutureWarning: Default solver will be changed to 'lbfgs' in 0.22. Specify a solver to silence this warning.\n",
            "  FutureWarning)\n",
            "/usr/local/lib/python3.6/dist-packages/sklearn/linear_model/logistic.py:433: FutureWarning: Default solver will be changed to 'lbfgs' in 0.22. Specify a solver to silence this warning.\n",
            "  FutureWarning)\n",
            "/usr/local/lib/python3.6/dist-packages/sklearn/linear_model/logistic.py:433: FutureWarning: Default solver will be changed to 'lbfgs' in 0.22. Specify a solver to silence this warning.\n",
            "  FutureWarning)\n"
          ],
          "name": "stderr"
        },
        {
          "output_type": "error",
          "ename": "ValueError",
          "evalue": "ignored",
          "traceback": [
            "\u001b[0;31m---------------------------------------------------------------------------\u001b[0m",
            "\u001b[0;31mValueError\u001b[0m                                Traceback (most recent call last)",
            "\u001b[0;32m<ipython-input-44-b79c6e828408>\u001b[0m in \u001b[0;36m<module>\u001b[0;34m()\u001b[0m\n\u001b[1;32m      8\u001b[0m \u001b[0mprint\u001b[0m\u001b[0;34m(\u001b[0m\u001b[0;34m\"TF:\"\u001b[0m\u001b[0;34m)\u001b[0m\u001b[0;34m\u001b[0m\u001b[0;34m\u001b[0m\u001b[0m\n\u001b[1;32m      9\u001b[0m \u001b[0mlogreg\u001b[0m \u001b[0;34m=\u001b[0m \u001b[0mLogisticRegression\u001b[0m\u001b[0;34m(\u001b[0m\u001b[0;34m)\u001b[0m\u001b[0;34m.\u001b[0m\u001b[0mfit\u001b[0m\u001b[0;34m(\u001b[0m\u001b[0mtf_data_train\u001b[0m\u001b[0;34m,\u001b[0m \u001b[0mtf_labels_train\u001b[0m\u001b[0;34m)\u001b[0m\u001b[0;31m#トレーニング用データで学習させ\u001b[0m\u001b[0;34m\u001b[0m\u001b[0;34m\u001b[0m\u001b[0m\n\u001b[0;32m---> 10\u001b[0;31m \u001b[0mprint\u001b[0m\u001b[0;34m(\u001b[0m\u001b[0;34m\"Test set score Gaussian: {:.2f}\"\u001b[0m\u001b[0;34m.\u001b[0m\u001b[0mformat\u001b[0m\u001b[0;34m(\u001b[0m\u001b[0mclf\u001b[0m\u001b[0;34m.\u001b[0m\u001b[0mscore\u001b[0m\u001b[0;34m(\u001b[0m\u001b[0mtf_data_test\u001b[0m\u001b[0;34m,\u001b[0m \u001b[0mtf_labels_test\u001b[0m\u001b[0;34m)\u001b[0m\u001b[0;34m)\u001b[0m\u001b[0;34m)\u001b[0m\u001b[0;34m\u001b[0m\u001b[0;34m\u001b[0m\u001b[0m\n\u001b[0m\u001b[1;32m     11\u001b[0m \u001b[0mscores\u001b[0m \u001b[0;34m=\u001b[0m \u001b[0mcross_val_score\u001b[0m\u001b[0;34m(\u001b[0m\u001b[0mlogreg\u001b[0m\u001b[0;34m,\u001b[0m \u001b[0mtf_data_test\u001b[0m\u001b[0;34m,\u001b[0m \u001b[0mtf_labels_test\u001b[0m\u001b[0;34m)\u001b[0m\u001b[0;34m\u001b[0m\u001b[0;34m\u001b[0m\u001b[0m\n\u001b[1;32m     12\u001b[0m \u001b[0mprint\u001b[0m\u001b[0;34m(\u001b[0m\u001b[0;34m\"Average cross-validation score: {:.2f}\"\u001b[0m\u001b[0;34m.\u001b[0m\u001b[0mformat\u001b[0m\u001b[0;34m(\u001b[0m\u001b[0mscores\u001b[0m\u001b[0;34m.\u001b[0m\u001b[0mmean\u001b[0m\u001b[0;34m(\u001b[0m\u001b[0;34m)\u001b[0m\u001b[0;34m)\u001b[0m\u001b[0;34m)\u001b[0m\u001b[0;34m\u001b[0m\u001b[0;34m\u001b[0m\u001b[0m\n",
            "\u001b[0;32m/usr/local/lib/python3.6/dist-packages/sklearn/base.py\u001b[0m in \u001b[0;36mscore\u001b[0;34m(self, X, y, sample_weight)\u001b[0m\n\u001b[1;32m    286\u001b[0m         \"\"\"\n\u001b[1;32m    287\u001b[0m         \u001b[0;32mfrom\u001b[0m \u001b[0;34m.\u001b[0m\u001b[0mmetrics\u001b[0m \u001b[0;32mimport\u001b[0m \u001b[0maccuracy_score\u001b[0m\u001b[0;34m\u001b[0m\u001b[0;34m\u001b[0m\u001b[0m\n\u001b[0;32m--> 288\u001b[0;31m         \u001b[0;32mreturn\u001b[0m \u001b[0maccuracy_score\u001b[0m\u001b[0;34m(\u001b[0m\u001b[0my\u001b[0m\u001b[0;34m,\u001b[0m \u001b[0mself\u001b[0m\u001b[0;34m.\u001b[0m\u001b[0mpredict\u001b[0m\u001b[0;34m(\u001b[0m\u001b[0mX\u001b[0m\u001b[0;34m)\u001b[0m\u001b[0;34m,\u001b[0m \u001b[0msample_weight\u001b[0m\u001b[0;34m=\u001b[0m\u001b[0msample_weight\u001b[0m\u001b[0;34m)\u001b[0m\u001b[0;34m\u001b[0m\u001b[0;34m\u001b[0m\u001b[0m\n\u001b[0m\u001b[1;32m    289\u001b[0m \u001b[0;34m\u001b[0m\u001b[0m\n\u001b[1;32m    290\u001b[0m \u001b[0;34m\u001b[0m\u001b[0m\n",
            "\u001b[0;32m/usr/local/lib/python3.6/dist-packages/sklearn/naive_bayes.py\u001b[0m in \u001b[0;36mpredict\u001b[0;34m(self, X)\u001b[0m\n\u001b[1;32m     64\u001b[0m             \u001b[0mPredicted\u001b[0m \u001b[0mtarget\u001b[0m \u001b[0mvalues\u001b[0m \u001b[0;32mfor\u001b[0m \u001b[0mX\u001b[0m\u001b[0;34m\u001b[0m\u001b[0;34m\u001b[0m\u001b[0m\n\u001b[1;32m     65\u001b[0m         \"\"\"\n\u001b[0;32m---> 66\u001b[0;31m         \u001b[0mjll\u001b[0m \u001b[0;34m=\u001b[0m \u001b[0mself\u001b[0m\u001b[0;34m.\u001b[0m\u001b[0m_joint_log_likelihood\u001b[0m\u001b[0;34m(\u001b[0m\u001b[0mX\u001b[0m\u001b[0;34m)\u001b[0m\u001b[0;34m\u001b[0m\u001b[0;34m\u001b[0m\u001b[0m\n\u001b[0m\u001b[1;32m     67\u001b[0m         \u001b[0;32mreturn\u001b[0m \u001b[0mself\u001b[0m\u001b[0;34m.\u001b[0m\u001b[0mclasses_\u001b[0m\u001b[0;34m[\u001b[0m\u001b[0mnp\u001b[0m\u001b[0;34m.\u001b[0m\u001b[0margmax\u001b[0m\u001b[0;34m(\u001b[0m\u001b[0mjll\u001b[0m\u001b[0;34m,\u001b[0m \u001b[0maxis\u001b[0m\u001b[0;34m=\u001b[0m\u001b[0;36m1\u001b[0m\u001b[0;34m)\u001b[0m\u001b[0;34m]\u001b[0m\u001b[0;34m\u001b[0m\u001b[0;34m\u001b[0m\u001b[0m\n\u001b[1;32m     68\u001b[0m \u001b[0;34m\u001b[0m\u001b[0m\n",
            "\u001b[0;32m/usr/local/lib/python3.6/dist-packages/sklearn/naive_bayes.py\u001b[0m in \u001b[0;36m_joint_log_likelihood\u001b[0;34m(self, X)\u001b[0m\n\u001b[1;32m    435\u001b[0m             \u001b[0mjointi\u001b[0m \u001b[0;34m=\u001b[0m \u001b[0mnp\u001b[0m\u001b[0;34m.\u001b[0m\u001b[0mlog\u001b[0m\u001b[0;34m(\u001b[0m\u001b[0mself\u001b[0m\u001b[0;34m.\u001b[0m\u001b[0mclass_prior_\u001b[0m\u001b[0;34m[\u001b[0m\u001b[0mi\u001b[0m\u001b[0;34m]\u001b[0m\u001b[0;34m)\u001b[0m\u001b[0;34m\u001b[0m\u001b[0;34m\u001b[0m\u001b[0m\n\u001b[1;32m    436\u001b[0m             \u001b[0mn_ij\u001b[0m \u001b[0;34m=\u001b[0m \u001b[0;34m-\u001b[0m \u001b[0;36m0.5\u001b[0m \u001b[0;34m*\u001b[0m \u001b[0mnp\u001b[0m\u001b[0;34m.\u001b[0m\u001b[0msum\u001b[0m\u001b[0;34m(\u001b[0m\u001b[0mnp\u001b[0m\u001b[0;34m.\u001b[0m\u001b[0mlog\u001b[0m\u001b[0;34m(\u001b[0m\u001b[0;36m2.\u001b[0m \u001b[0;34m*\u001b[0m \u001b[0mnp\u001b[0m\u001b[0;34m.\u001b[0m\u001b[0mpi\u001b[0m \u001b[0;34m*\u001b[0m \u001b[0mself\u001b[0m\u001b[0;34m.\u001b[0m\u001b[0msigma_\u001b[0m\u001b[0;34m[\u001b[0m\u001b[0mi\u001b[0m\u001b[0;34m,\u001b[0m \u001b[0;34m:\u001b[0m\u001b[0;34m]\u001b[0m\u001b[0;34m)\u001b[0m\u001b[0;34m)\u001b[0m\u001b[0;34m\u001b[0m\u001b[0;34m\u001b[0m\u001b[0m\n\u001b[0;32m--> 437\u001b[0;31m             n_ij -= 0.5 * np.sum(((X - self.theta_[i, :]) ** 2) /\n\u001b[0m\u001b[1;32m    438\u001b[0m                                  (self.sigma_[i, :]), 1)\n\u001b[1;32m    439\u001b[0m             \u001b[0mjoint_log_likelihood\u001b[0m\u001b[0;34m.\u001b[0m\u001b[0mappend\u001b[0m\u001b[0;34m(\u001b[0m\u001b[0mjointi\u001b[0m \u001b[0;34m+\u001b[0m \u001b[0mn_ij\u001b[0m\u001b[0;34m)\u001b[0m\u001b[0;34m\u001b[0m\u001b[0;34m\u001b[0m\u001b[0m\n",
            "\u001b[0;31mValueError\u001b[0m: operands could not be broadcast together with shapes (8,212) (300,) "
          ]
        }
      ]
    },
    {
      "cell_type": "code",
      "metadata": {
        "id": "cqy5GxZ4FaOo",
        "colab_type": "code",
        "outputId": "ccdea91f-c65a-4b0f-b701-2812608c15f1",
        "colab": {
          "base_uri": "https://localhost:8080/",
          "height": 295
        }
      },
      "source": [
        "print(\"Doc2Vec:\")\n",
        "logreg = LogisticRegression().fit(data_train, labels_train)#トレーニング用データで学習させ\n",
        "print(\"Test set score Gaussian: {:.2f}\".format(clf.score(data_test, labels_test)))\n",
        "scores = cross_val_score(logreg, data_test, labels_test)\n",
        "print(\"Average cross-validation score: {:.2f}\".format(scores.mean()))\n",
        "print(\"Cross-validation scores: {}\".format(scores))"
      ],
      "execution_count": 0,
      "outputs": [
        {
          "output_type": "stream",
          "text": [
            "Doc2Vec:\n",
            "Test set score Gaussian: 0.38\n",
            "Average cross-validation score: 0.39\n",
            "Cross-validation scores: [0.33333333 0.33333333 0.5       ]\n"
          ],
          "name": "stdout"
        },
        {
          "output_type": "stream",
          "text": [
            "/usr/local/lib/python3.6/dist-packages/sklearn/linear_model/logistic.py:433: FutureWarning: Default solver will be changed to 'lbfgs' in 0.22. Specify a solver to silence this warning.\n",
            "  FutureWarning)\n",
            "/usr/local/lib/python3.6/dist-packages/sklearn/model_selection/_split.py:2053: FutureWarning: You should specify a value for 'cv' instead of relying on the default value. The default value will change from 3 to 5 in version 0.22.\n",
            "  warnings.warn(CV_WARNING, FutureWarning)\n",
            "/usr/local/lib/python3.6/dist-packages/sklearn/linear_model/logistic.py:433: FutureWarning: Default solver will be changed to 'lbfgs' in 0.22. Specify a solver to silence this warning.\n",
            "  FutureWarning)\n",
            "/usr/local/lib/python3.6/dist-packages/sklearn/linear_model/logistic.py:433: FutureWarning: Default solver will be changed to 'lbfgs' in 0.22. Specify a solver to silence this warning.\n",
            "  FutureWarning)\n",
            "/usr/local/lib/python3.6/dist-packages/sklearn/linear_model/logistic.py:433: FutureWarning: Default solver will be changed to 'lbfgs' in 0.22. Specify a solver to silence this warning.\n",
            "  FutureWarning)\n"
          ],
          "name": "stderr"
        }
      ]
    },
    {
      "cell_type": "markdown",
      "metadata": {
        "id": "HUgvGwhq82KI",
        "colab_type": "text"
      },
      "source": [
        "# 混同行列\n"
      ]
    },
    {
      "cell_type": "code",
      "metadata": {
        "id": "VwiK6bAc86Bd",
        "colab_type": "code",
        "colab": {}
      },
      "source": [
        "from sklearn.metrics import confusion_matrix\n",
        "import matplotlib.pyplot as plt"
      ],
      "execution_count": 0,
      "outputs": []
    },
    {
      "cell_type": "code",
      "metadata": {
        "id": "NUCi-P009mae",
        "colab_type": "code",
        "outputId": "f3f30092-ff10-4df1-c3b2-645e24a95641",
        "colab": {
          "base_uri": "https://localhost:8080/",
          "height": 578
        }
      },
      "source": [
        "print(\"Doc2Vec:\")\n",
        "clf = GaussianNB() # 正規分布を仮定したベイズ分類\n",
        "clf.fit(data_train, labels_train) # 学習をする\n",
        "clf_pred = clf.predict(data_test) # 予測\n",
        "print(\"Test set score Gaussian: {:.2f}\".format(clf.score(data_test, labels_test)))\n",
        "scores = cross_val_score(clf, data_test, labels_test,cv=3)\n",
        "print(\"Average cross-validation score: {:.2f}\".format(scores.mean()))\n",
        "print(\"Cross-validation scores: {}\".format(scores))\n",
        "print(confusion_matrix(labels_test, clf_pred))\n",
        "\n",
        "\n",
        "bclf = BernoulliNB()\n",
        "bclf.fit(data_train, labels_train)\n",
        "bclf_pred = bclf.predict(data_test) # 予測\n",
        "print(\"Test set score Bernoulli: {:.2f}\".format(bclf.score(data_test, labels_test)))\n",
        "scores = cross_val_score(bclf, data_test, labels_test,cv=3)\n",
        "print(\"Average cross-validation score: {:.2f}\".format(scores.mean()))\n",
        "print(\"Cross-validation scores: {}\".format(scores))\n",
        "print(confusion_matrix(labels_test, bclf_pred))\n",
        "\n",
        "\n",
        "print(\"TF:\")\n",
        "tf_clf = GaussianNB() # 正規分布を仮定したベイズ分類\n",
        "tf_clf.fit(tf_data_train, tf_labels_train) # 学習をする\n",
        "tf_clf_pred = tf_clf.predict(tf_data_test) # 予測\n",
        "print(\"Test set score Gaussian: {:.2f}\".format(tf_clf.score(tf_data_test, tf_labels_test)))\n",
        "scores = cross_val_score(tf_clf, tf_data_test, tf_labels_test,cv=3)\n",
        "print(\"Average cross-validation score: {:.2f}\".format(scores.mean()))\n",
        "print(\"Cross-validation scores: {}\".format(scores))\n",
        "print(confusion_matrix(tf_labels_test, tf_clf_pred))\n",
        "\n",
        "\n",
        "tf_bclf = BernoulliNB()\n",
        "tf_bclf.fit(tf_data_train, tf_labels_train)\n",
        "tf_bclf_pred = tf_bclf.predict(tf_data_test) # 予測\n",
        "print(\"Test set score Bernoulli: {:.2f}\".format(tf_bclf.score(tf_data_test, tf_labels_test)))\n",
        "scores = cross_val_score(tf_bclf, tf_data_test, tf_labels_test,cv=3)\n",
        "print(\"Average cross-validation score: {:.2f}\".format(scores.mean()))\n",
        "print(\"Cross-validation scores: {}\".format(scores))\n",
        "print(confusion_matrix(tf_labels_test, tf_bclf_pred))\n",
        "\n",
        "\n",
        "print(\"TF-IDF:\")\n",
        "tf_idf_clf = GaussianNB() # 正規分布を仮定したベイズ分類\n",
        "tf_idf_clf.fit(tf_idf_data_train, tf_idf_labels_train) # 学習をする\n",
        "tf_idf_clf_pred = tf_idf_clf.predict(tf_idf_data_test) # 予測\n",
        "print(\"Test set score Gaussian: {:.2f}\".format(tf_idf_clf.score(tf_idf_data_test, tf_idf_labels_test)))\n",
        "scores = cross_val_score(tf_idf_clf, tf_idf_data_test, tf_idf_labels_test,cv=3)\n",
        "print(\"Average cross-validation score: {:.2f}\".format(scores.mean()))\n",
        "print(\"Cross-validation scores: {}\".format(scores))\n",
        "print(confusion_matrix(tf_idf_labels_test, tf_idf_clf_pred))\n",
        "\n",
        "\n",
        "tf_idf_bclf = BernoulliNB()\n",
        "tf_idf_bclf.fit(tf_idf_data_train, tf_idf_labels_train)\n",
        "tf_idf_bclf_pred = tf_idf_bclf.predict(tf_idf_data_test) # 予測\n",
        "print(\"Test set score Bernoulli: {:.2f}\".format(tf_idf_bclf.score(tf_idf_data_test, tf_idf_labels_test)))\n",
        "scores = cross_val_score(tf_idf_bclf, tf_idf_data_test, tf_idf_labels_test,cv=3)\n",
        "print(\"Average cross-validation score: {:.2f}\".format(scores.mean()))\n",
        "print(\"Cross-validation scores: {}\".format(scores))\n",
        "print(confusion_matrix(tf_idf_labels_test, tf_idf_bclf_pred))\n"
      ],
      "execution_count": 0,
      "outputs": [
        {
          "output_type": "stream",
          "text": [
            "Doc2Vec:\n",
            "Test set score Gaussian: 0.60\n",
            "Average cross-validation score: 0.61\n",
            "Cross-validation scores: [0.5        0.66666667 0.66666667]\n",
            "[[2 2]\n",
            " [2 4]]\n",
            "Test set score Bernoulli: 0.70\n",
            "Average cross-validation score: 0.42\n",
            "Cross-validation scores: [0.25 0.   1.  ]\n",
            "[[3 1]\n",
            " [2 4]]\n",
            "TF:\n",
            "Test set score Gaussian: 0.40\n",
            "Average cross-validation score: 1.00\n",
            "Cross-validation scores: [1. 1. 1.]\n",
            "[[2 2]\n",
            " [4 2]]\n",
            "Test set score Bernoulli: 0.60\n",
            "Average cross-validation score: 0.61\n",
            "Cross-validation scores: [0.5        0.66666667 0.66666667]\n",
            "[[0 4]\n",
            " [0 6]]\n",
            "TF-IDF:\n",
            "Test set score Gaussian: 0.40\n",
            "Average cross-validation score: 1.00\n",
            "Cross-validation scores: [1. 1. 1.]\n",
            "[[2 2]\n",
            " [4 2]]\n",
            "Test set score Bernoulli: 0.60\n",
            "Average cross-validation score: 0.61\n",
            "Cross-validation scores: [0.5        0.66666667 0.66666667]\n",
            "[[0 4]\n",
            " [0 6]]\n"
          ],
          "name": "stdout"
        }
      ]
    },
    {
      "cell_type": "code",
      "metadata": {
        "id": "m8JcmNhsXSWC",
        "colab_type": "code",
        "outputId": "caded257-b72e-41a2-91e0-55d0f18b83ef",
        "colab": {
          "base_uri": "https://localhost:8080/",
          "height": 68
        }
      },
      "source": [
        "print(len(labels_train))\n",
        "print(len(labels_test))\n",
        "print(len(clf_pred))\n",
        "\n"
      ],
      "execution_count": 0,
      "outputs": [
        {
          "output_type": "stream",
          "text": [
            "30\n",
            "8\n",
            "8\n"
          ],
          "name": "stdout"
        }
      ]
    },
    {
      "cell_type": "code",
      "metadata": {
        "id": "CupMV__Gc1qN",
        "colab_type": "code",
        "outputId": "6c1ee3f1-dae1-4026-9d04-b67601d52630",
        "colab": {
          "base_uri": "https://localhost:8080/",
          "height": 378
        }
      },
      "source": [
        "!pip install useful_graphs"
      ],
      "execution_count": 0,
      "outputs": [
        {
          "output_type": "stream",
          "text": [
            "Collecting useful_graphs\n",
            "  Downloading https://files.pythonhosted.org/packages/28/23/2cd21db6672e63842aaf0dfae8d1bc3c84d4e1bfa345a098cf972e84677c/useful_graphs-0.1.14.tar.gz\n",
            "Requirement already satisfied: matplotlib>=1.3.1 in /usr/local/lib/python3.6/dist-packages (from useful_graphs) (3.0.2)\n",
            "Requirement already satisfied: numpy>=1.13.1 in /usr/local/lib/python3.6/dist-packages (from useful_graphs) (1.14.6)\n",
            "Requirement already satisfied: kiwisolver>=1.0.1 in /usr/local/lib/python3.6/dist-packages (from matplotlib>=1.3.1->useful_graphs) (1.0.1)\n",
            "Requirement already satisfied: cycler>=0.10 in /usr/local/lib/python3.6/dist-packages (from matplotlib>=1.3.1->useful_graphs) (0.10.0)\n",
            "Requirement already satisfied: pyparsing!=2.0.4,!=2.1.2,!=2.1.6,>=2.0.1 in /usr/local/lib/python3.6/dist-packages (from matplotlib>=1.3.1->useful_graphs) (2.3.1)\n",
            "Requirement already satisfied: python-dateutil>=2.1 in /usr/local/lib/python3.6/dist-packages (from matplotlib>=1.3.1->useful_graphs) (2.5.3)\n",
            "Requirement already satisfied: setuptools in /usr/local/lib/python3.6/dist-packages (from kiwisolver>=1.0.1->matplotlib>=1.3.1->useful_graphs) (40.8.0)\n",
            "Requirement already satisfied: six in /usr/local/lib/python3.6/dist-packages (from cycler>=0.10->matplotlib>=1.3.1->useful_graphs) (1.11.0)\n",
            "Building wheels for collected packages: useful-graphs\n",
            "  Building wheel for useful-graphs (setup.py) ... \u001b[?25ldone\n",
            "\u001b[?25h  Stored in directory: /root/.cache/pip/wheels/94/86/80/2f601e27d80f364cc11d4ed4628cdf09338c9b1776f8d84f60\n",
            "Successfully built useful-graphs\n",
            "Installing collected packages: useful-graphs\n",
            "Successfully installed useful-graphs-0.1.14\n"
          ],
          "name": "stdout"
        }
      ]
    },
    {
      "cell_type": "code",
      "metadata": {
        "id": "1TnzFWcIga8r",
        "colab_type": "code",
        "outputId": "15d1aac2-70cb-41db-c88d-66d6873f7e96",
        "colab": {
          "base_uri": "https://localhost:8080/",
          "height": 401
        }
      },
      "source": [
        "import numpy as np\n",
        "import useful_graphs\n",
        "conf = confusion_matrix(labels_test, clf_pred)\n",
        "classes = ['label-1', 'label-2']\n",
        "cm = useful_graphs.ConfusionMatrix(conf, class_list=classes)\n",
        "cm.plot(to_normalize=True)"
      ],
      "execution_count": 0,
      "outputs": [
        {
          "output_type": "display_data",
          "data": {
            "image/png": "[encoded data removed]",
            "text/plain": [
              "<Figure size 576x396 with 2 Axes>"
            ]
          },
          "metadata": {
            "tags": []
          }
        }
      ]
    },
    {
      "cell_type": "code",
      "metadata": {
        "id": "_P5nwkJ7gtFX",
        "colab_type": "code",
        "outputId": "54ecf5f9-e702-42b6-b479-dea8d76d4ec6",
        "colab": {
          "base_uri": "https://localhost:8080/",
          "height": 401
        }
      },
      "source": [
        "cm.plot(save_path=\"path_to_figure.pdf\")"
      ],
      "execution_count": 0,
      "outputs": [
        {
          "output_type": "display_data",
          "data": {
            "image/png": "[encoded data removed]",
            "text/plain": [
              "<Figure size 576x396 with 2 Axes>"
            ]
          },
          "metadata": {
            "tags": []
          }
        }
      ]
    },
    {
      "cell_type": "markdown",
      "metadata": {
        "id": "YzdqwLOuq9_n",
        "colab_type": "text"
      },
      "source": [
        "vec"
      ]
    },
    {
      "cell_type": "code",
      "metadata": {
        "id": "M95-qNXBg9Rf",
        "colab_type": "code",
        "outputId": "2d4cdcfd-9fdc-4d60-db10-00d7aec9ba99",
        "colab": {
          "base_uri": "https://localhost:8080/",
          "height": 34
        }
      },
      "source": [
        "len(vector_list)"
      ],
      "execution_count": 0,
      "outputs": [
        {
          "output_type": "execute_result",
          "data": {
            "text/plain": [
              "38"
            ]
          },
          "metadata": {
            "tags": []
          },
          "execution_count": 6
        }
      ]
    },
    {
      "cell_type": "code",
      "metadata": {
        "id": "NxYk424urArC",
        "colab_type": "code",
        "outputId": "4d57824a-e487-4a36-9b01-e4ed85e16fa5",
        "colab": {
          "base_uri": "https://localhost:8080/",
          "height": 278
        }
      },
      "source": [
        "tf_data_train"
      ],
      "execution_count": 0,
      "outputs": [
        {
          "output_type": "execute_result",
          "data": {
            "text/plain": [
              "array([[0.        , 0.        , 0.        , ..., 0.        , 0.        ,\n",
              "        0.        ],\n",
              "       [0.        , 0.        , 0.        , ..., 0.        , 0.        ,\n",
              "        0.        ],\n",
              "       [0.        , 0.        , 0.        , ..., 0.        , 0.        ,\n",
              "        0.        ],\n",
              "       ...,\n",
              "       [0.28867513, 0.        , 0.        , ..., 0.        , 0.        ,\n",
              "        0.        ],\n",
              "       [0.        , 0.        , 0.        , ..., 0.        , 0.        ,\n",
              "        0.        ],\n",
              "       [0.        , 0.        , 0.        , ..., 0.        , 0.        ,\n",
              "        0.        ]])"
            ]
          },
          "metadata": {
            "tags": []
          },
          "execution_count": 95
        }
      ]
    },
    {
      "cell_type": "code",
      "metadata": {
        "id": "OBqsawz9Q8lv",
        "colab_type": "code",
        "outputId": "57286e78-46d3-470b-8601-686b4ce67455",
        "colab": {
          "base_uri": "https://localhost:8080/",
          "height": 91
        }
      },
      "source": [
        "tf_labels_train"
      ],
      "execution_count": 0,
      "outputs": [
        {
          "output_type": "execute_result",
          "data": {
            "text/plain": [
              "array([1, 1, 0, 1, 1, 0, 1, 1, 1, 0, 1, 1, 0, 1, 1, 1, 0, 0, 1, 0, 1, 0,\n",
              "       1, 0, 0, 0, 1, 1, 0, 1], dtype=int32)"
            ]
          },
          "metadata": {
            "tags": []
          },
          "execution_count": 96
        }
      ]
    },
    {
      "cell_type": "code",
      "metadata": {
        "id": "wi7gBUGjRA1y",
        "colab_type": "code",
        "outputId": "280bc8b0-7f66-492c-cf67-8dffd1d81de1",
        "colab": {
          "base_uri": "https://localhost:8080/",
          "height": 34
        }
      },
      "source": [
        "tf_clf_pred"
      ],
      "execution_count": 0,
      "outputs": [
        {
          "output_type": "execute_result",
          "data": {
            "text/plain": [
              "array([1, 0, 1, 0, 0, 0, 1, 0], dtype=int32)"
            ]
          },
          "metadata": {
            "tags": []
          },
          "execution_count": 97
        }
      ]
    },
    {
      "cell_type": "code",
      "metadata": {
        "id": "tY233EjKRPDz",
        "colab_type": "code",
        "outputId": "640b7cd4-5080-485b-db12-1d1c3eb86869",
        "colab": {
          "base_uri": "https://localhost:8080/",
          "height": 34
        }
      },
      "source": [
        "tf_labels_test"
      ],
      "execution_count": 0,
      "outputs": [
        {
          "output_type": "execute_result",
          "data": {
            "text/plain": [
              "array([0, 0, 1, 0, 1, 1, 0, 1], dtype=int32)"
            ]
          },
          "metadata": {
            "tags": []
          },
          "execution_count": 98
        }
      ]
    },
    {
      "cell_type": "code",
      "metadata": {
        "id": "Wb1OEug4RWyP",
        "colab_type": "code",
        "outputId": "9a5df71e-33a3-4ba1-c4d9-1e12242dc579",
        "colab": {
          "base_uri": "https://localhost:8080/",
          "height": 204
        }
      },
      "source": [
        "len(venctor_list[0])"
      ],
      "execution_count": 0,
      "outputs": [
        {
          "output_type": "error",
          "ename": "NameError",
          "evalue": "ignored",
          "traceback": [
            "\u001b[0;31m---------------------------------------------------------------------------\u001b[0m",
            "\u001b[0;31mNameError\u001b[0m                                 Traceback (most recent call last)",
            "\u001b[0;32m<ipython-input-112-cbbd376b1fa8>\u001b[0m in \u001b[0;36m<module>\u001b[0;34m()\u001b[0m\n\u001b[0;32m----> 1\u001b[0;31m \u001b[0mlen\u001b[0m\u001b[0;34m(\u001b[0m\u001b[0mvenctor_list\u001b[0m\u001b[0;34m[\u001b[0m\u001b[0;36m0\u001b[0m\u001b[0;34m]\u001b[0m\u001b[0;34m)\u001b[0m\u001b[0;34m\u001b[0m\u001b[0;34m\u001b[0m\u001b[0m\n\u001b[0m",
            "\u001b[0;31mNameError\u001b[0m: name 'venctor_list' is not defined"
          ]
        }
      ]
    },
    {
      "cell_type": "code",
      "metadata": {
        "id": "RKMv07N707I8",
        "colab_type": "code",
        "colab": {}
      },
      "source": [
        ""
      ],
      "execution_count": 0,
      "outputs": []
    }
  ]
}