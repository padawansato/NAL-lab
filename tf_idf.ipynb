{
  "nbformat": 4,
  "nbformat_minor": 0,
  "metadata": {
    "colab": {
      "name": "tf-idf.ipynb",
      "version": "0.3.2",
      "provenance": []
    },
    "kernelspec": {
      "name": "python3",
      "display_name": "Python 3"
    },
    "accelerator": "GPU"
  },
  "cells": [
    {
      "cell_type": "code",
      "metadata": {
        "id": "a9alCfow5emU",
        "colab_type": "code",
        "outputId": "a68815ae-e171-49ca-aaed-26080a08b57d",
        "colab": {
          "base_uri": "https://localhost:8080/",
          "height": 171
        }
      },
      "source": [
        "!pip install hoge\n",
        "# ドライブをマウント\n",
        "from google.colab import drive\n",
        "drive.mount('/content/gdrive')\n",
        "# カレントディレクトリの変更\n",
        "import os\n",
        "os.chdir('/content/gdrive/My Drive/NAL-LAB/Colab Notebooks')\n",
        "!pwd"
      ],
      "execution_count": 0,
      "outputs": [
        {
          "output_type": "stream",
          "text": [
            "Collecting hoge\n",
            "\u001b[31m  Could not find a version that satisfies the requirement hoge (from versions: )\u001b[0m\n",
            "\u001b[31mNo matching distribution found for hoge\u001b[0m\n",
            "Drive already mounted at /content/gdrive; to attempt to forcibly remount, call drive.mount(\"/content/gdrive\", force_remount=True).\n",
            "/content/gdrive/My Drive/NAL-LAB/Colab Notebooks\n"
          ],
          "name": "stdout"
        }
      ]
    },
    {
      "cell_type": "code",
      "metadata": {
        "id": "Fsv3B3X96a_Z",
        "colab_type": "code",
        "colab": {}
      },
      "source": [
        "import numpy as np\n",
        "from sklearn.feature_extraction.text import TfidfVectorizer\n",
        "from sklearn.cluster import KMeans"
      ],
      "execution_count": 0,
      "outputs": []
    },
    {
      "cell_type": "code",
      "metadata": {
        "id": "Kn2WIUk78wRz",
        "colab_type": "code",
        "colab": {}
      },
      "source": [
        "docs = np.loadtxt('like_wakati.txt', delimiter='\\n', dtype='str')"
      ],
      "execution_count": 0,
      "outputs": []
    },
    {
      "cell_type": "code",
      "metadata": {
        "id": "PuV1NUtc86yn",
        "colab_type": "code",
        "colab": {}
      },
      "source": [
        "# ベクトル化\n",
        "#\n",
        "vectorizer = TfidfVectorizer(use_idf=False, token_pattern=u'(?u)\\\\b\\\\w+\\\\b')\n",
        "vecs = vectorizer.fit_transform(docs)"
      ],
      "execution_count": 0,
      "outputs": []
    },
    {
      "cell_type": "code",
      "metadata": {
        "id": "6uRDMBkvGsgf",
        "colab_type": "code",
        "colab": {}
      },
      "source": [
        "# ベクトル化idf\n",
        "#\n",
        "vectorizer = TfidfVectorizer(use_idf=True, token_pattern=u'(?u)\\\\b\\\\w+\\\\b')\n",
        "vecs = vectorizer.fit_transform(docs)"
      ],
      "execution_count": 0,
      "outputs": []
    },
    {
      "cell_type": "code",
      "metadata": {
        "id": "9fYtTVj69mAh",
        "colab_type": "code",
        "outputId": "e87c154a-a873-4f9d-cf9f-6c64aa5d3710",
        "colab": {
          "base_uri": "https://localhost:8080/",
          "height": 258
        }
      },
      "source": [
        "vecs.toarray()"
      ],
      "execution_count": 0,
      "outputs": [
        {
          "output_type": "execute_result",
          "data": {
            "text/plain": [
              "array([[0.        , 0.        , 0.        , ..., 0.        , 0.        ,\n",
              "        0.        ],\n",
              "       [0.        , 0.        , 0.        , ..., 0.        , 0.        ,\n",
              "        0.        ],\n",
              "       [0.        , 0.        , 0.        , ..., 0.        , 0.        ,\n",
              "        0.        ],\n",
              "       ...,\n",
              "       [0.        , 0.        , 0.        , ..., 0.        , 0.        ,\n",
              "        0.40242967],\n",
              "       [0.        , 0.        , 0.        , ..., 0.        , 0.        ,\n",
              "        0.        ],\n",
              "       [0.        , 0.        , 0.        , ..., 0.        , 0.        ,\n",
              "        0.        ]])"
            ]
          },
          "metadata": {
            "tags": []
          },
          "execution_count": 6
        }
      ]
    },
    {
      "cell_type": "code",
      "metadata": {
        "id": "sO46nan088r_",
        "colab_type": "code",
        "outputId": "0cc407df-7eb4-4e8a-ce02-c849e457adaf",
        "colab": {
          "base_uri": "https://localhost:8080/",
          "height": 743
        }
      },
      "source": [
        "#\n",
        "# クラスタリング\n",
        "#\n",
        "clusters = KMeans(n_clusters=2, random_state=0).fit_predict(vecs)\n",
        "for doc, cls in zip(docs, clusters):\n",
        "    print(cls, doc)"
      ],
      "execution_count": 0,
      "outputs": [
        {
          "output_type": "stream",
          "text": [
            "0 SNS やっ て ます 。 \n",
            "0 twitter やっ て ます 。 \n",
            "1 本 は SF が 好き です ね 。 \n",
            "1 星 を 継ぐ もの とか が 割 と いい です 。 \n",
            "1 幼年 期 の 終わり は 辛かっ た です けど 。 \n",
            "1 古い SF とか です けど 。 \n",
            "1 あと 、 特撮 です か 。 \n",
            "1 ウルトラマン とか 、 仮面ライダー とか が 好き です 。 \n",
            "0 最近 は グリッド マン を 見 て ます 。 \n",
            "1 変 な 話 です が 、 オカルト とか 自己 啓発 本 とか も 読む ん です 。 \n",
            "1 ええ 、 そう です ね 。 恥ずかし ん です けど 、 オカルト 。 \n",
            "0 いや 、 わかっ て て 読む ん です よ ？ オカルト は オカルト だって 。 \n",
            "0 いや 、 ロマン です から 、 それ は チュパカブラ は い ない って わかっ て ます から 。 \n",
            "1 いや でも 全部 地続き です よ 、 SF とか 、 オカルト と とか って 。 \n",
            "1 と いう か 、 地続き な 部分 で 好き と いい い ます か 、 うん 。 \n",
            "1 この 前 、 amazon プライム で 帝都 物語 見 た ん です よ 。 \n",
            "1 あれ って 、 あのー 実相寺 昭雄 作品 で 。 \n",
            "1 実相寺 昭雄 っていう の は 、 新しい 表現 手法 を いろいろ 生ん で その後 に すごい 影響 を あたえ た 監督 な ん です けど 。 \n",
            "1 庵 野 秀明 とか 、 押井 守 と か 。 \n",
            "1 で 、 その 最後 の 特撮 作品 と いう か 、 時代 的 に CG が なかっ た から 。 \n",
            "1 ああ 、 そう です 。 \n",
            "1 その 時代 が お金 を かけ て 撮れる 特撮 作品 で 最大 な もの だっ た ん じゃ なかろ う か っていう 作品 な ん です ね 。 \n",
            "1 見 た こと ない 人 に 説明 する と 、 その 映画 陰陽 師 みたい な 感じ です 。 \n",
            "1 これ は 完全 に オカルト を 特撮 で 実写 化 しよ う っていう 作品 で めちゃめちゃ おもしろかっ た です 。 \n",
            "0 話 は 戻る です けども 、 古典 SF を 読む って 言い まし た けど 、 だんだん 辛く なっ て き て 。 \n",
            "1 そう です 。 \n",
            "0 古い から 、 辛く て 。 \n",
            "1 なんか 、 SF 映画 とか 見 て て 、 と いう か 映画 の 解説 です ね 。 \n",
            "1 書評 とか いろいろ 聞い たり 、 読ん だり する と 、 これ は どこ どこ の 、 いつい つ の 何 々 って 作品 の オマージュ だって 、 かしこ げに 言う ん です よ 歌丸 が 。 \n",
            "1 rime スター 歌丸 です 。 それ が 映画 の 解説 を ラジオ で する ん です 。 \n",
            "1 で 、 あ 、 例えば 攻 殻 機動 隊 の 中 で 出 て き た 「 ライ麦 畑 で つかまえ て 」 を 買っ て 読ん で みよ う と 思っ た ん です けど 。 \n",
            "1 まず 、 翻訳 の 文体 が 古い 。 \n",
            "0 そん で もっ て 、 結末 は すでに 知っ て いる 。 \n",
            "1 しかも その 当時 新しい から 衝撃 を 与え た ん だろ う けど 、 今 と なっ て は 使い古さ れ た 手法 。 \n",
            "1 しかも なん だっ たら こなれ て ない から 、 なんか 荒く 感じる 。 \n",
            "0 スポーツ は テニス やっ て まし た よ 、 高校 時代 。 \n",
            "1 下手 でし た けど 普通 に 。 \n",
            "1 中学校 時代 に 軟式 で 、 その のち 硬式 テニス に 移行 し た んで 苦労 し て 、 なん か 上達 が みんな より ワンテンポ 遅れ て かなり 辛かっ た 思い出 が 。\n"
          ],
          "name": "stdout"
        }
      ]
    },
    {
      "cell_type": "code",
      "metadata": {
        "id": "yo943hBo-7rn",
        "colab_type": "code",
        "colab": {}
      },
      "source": [
        "# 指数表記にしない\n",
        "np.set_printoptions(suppress=True)"
      ],
      "execution_count": 0,
      "outputs": []
    },
    {
      "cell_type": "code",
      "metadata": {
        "id": "ru7f4TA7nno1",
        "colab_type": "code",
        "outputId": "b486ba24-6c60-4b10-dabe-d4b9868ab0c0",
        "colab": {
          "base_uri": "https://localhost:8080/",
          "height": 258
        }
      },
      "source": [
        "vecs.toarray()"
      ],
      "execution_count": 0,
      "outputs": [
        {
          "output_type": "execute_result",
          "data": {
            "text/plain": [
              "array([[0.        , 0.        , 0.        , ..., 0.        , 0.        ,\n",
              "        0.        ],\n",
              "       [0.        , 0.        , 0.        , ..., 0.        , 0.        ,\n",
              "        0.        ],\n",
              "       [0.        , 0.        , 0.        , ..., 0.        , 0.        ,\n",
              "        0.        ],\n",
              "       ...,\n",
              "       [0.        , 0.        , 0.        , ..., 0.        , 0.        ,\n",
              "        0.40242967],\n",
              "       [0.        , 0.        , 0.        , ..., 0.        , 0.        ,\n",
              "        0.        ],\n",
              "       [0.        , 0.        , 0.        , ..., 0.        , 0.        ,\n",
              "        0.        ]])"
            ]
          },
          "metadata": {
            "tags": []
          },
          "execution_count": 9
        }
      ]
    },
    {
      "cell_type": "code",
      "metadata": {
        "id": "FmYMwoaI9Jof",
        "colab_type": "code",
        "colab": {}
      },
      "source": [
        "# 書き出し\n",
        "np.savetxt('tf.txt',vecs.toarray(),delimiter=',')"
      ],
      "execution_count": 0,
      "outputs": []
    },
    {
      "cell_type": "code",
      "metadata": {
        "id": "UQM6Gpir9rPS",
        "colab_type": "code",
        "outputId": "c8d4d0dd-1c4a-4a32-f7a3-b9c972da62e8",
        "colab": {
          "base_uri": "https://localhost:8080/",
          "height": 34
        }
      },
      "source": [
        "vecs.toarray().dtype"
      ],
      "execution_count": 0,
      "outputs": [
        {
          "output_type": "execute_result",
          "data": {
            "text/plain": [
              "dtype('float64')"
            ]
          },
          "metadata": {
            "tags": []
          },
          "execution_count": 11
        }
      ]
    },
    {
      "cell_type": "code",
      "metadata": {
        "id": "ZfDz50FIODsQ",
        "colab_type": "code",
        "colab": {}
      },
      "source": [
        "# 読み込み\n",
        "import numpy as np\n",
        "vector_list = np.loadtxt('tf-idf.txt', delimiter=',', dtype='float')"
      ],
      "execution_count": 0,
      "outputs": []
    },
    {
      "cell_type": "code",
      "metadata": {
        "id": "sFOxSlN0O8Xa",
        "colab_type": "code",
        "outputId": "2db173c8-c24a-45b5-8615-5dd89e9daeca",
        "colab": {
          "base_uri": "https://localhost:8080/",
          "height": 184
        }
      },
      "source": [
        "vector_list"
      ],
      "execution_count": 0,
      "outputs": [
        {
          "output_type": "error",
          "ename": "NameError",
          "evalue": "ignored",
          "traceback": [
            "\u001b[0;31m---------------------------------------------------------------------------\u001b[0m",
            "\u001b[0;31mNameError\u001b[0m                                 Traceback (most recent call last)",
            "\u001b[0;32m<ipython-input-4-5aa4848c13df>\u001b[0m in \u001b[0;36m<module>\u001b[0;34m()\u001b[0m\n\u001b[0;32m----> 1\u001b[0;31m \u001b[0mvector_list\u001b[0m\u001b[0;34m\u001b[0m\u001b[0;34m\u001b[0m\u001b[0m\n\u001b[0m",
            "\u001b[0;31mNameError\u001b[0m: name 'vector_list' is not defined"
          ]
        }
      ]
    },
    {
      "cell_type": "code",
      "metadata": {
        "id": "iDbEqqLSO9nz",
        "colab_type": "code",
        "outputId": "129defd2-a41e-4662-9760-17683ba62fbd",
        "colab": {
          "base_uri": "https://localhost:8080/",
          "height": 184
        }
      },
      "source": [
        "len(vector_list[0][0])"
      ],
      "execution_count": 0,
      "outputs": [
        {
          "output_type": "error",
          "ename": "NameError",
          "evalue": "ignored",
          "traceback": [
            "\u001b[0;31m---------------------------------------------------------------------------\u001b[0m",
            "\u001b[0;31mNameError\u001b[0m                                 Traceback (most recent call last)",
            "\u001b[0;32m<ipython-input-3-3a2e52a66721>\u001b[0m in \u001b[0;36m<module>\u001b[0;34m()\u001b[0m\n\u001b[0;32m----> 1\u001b[0;31m \u001b[0mlen\u001b[0m\u001b[0;34m(\u001b[0m\u001b[0mvector_list\u001b[0m\u001b[0;34m[\u001b[0m\u001b[0;36m0\u001b[0m\u001b[0;34m]\u001b[0m\u001b[0;34m[\u001b[0m\u001b[0;36m0\u001b[0m\u001b[0;34m]\u001b[0m\u001b[0;34m)\u001b[0m\u001b[0;34m\u001b[0m\u001b[0;34m\u001b[0m\u001b[0m\n\u001b[0m",
            "\u001b[0;31mNameError\u001b[0m: name 'vector_list' is not defined"
          ]
        }
      ]
    },
    {
      "cell_type": "code",
      "metadata": {
        "id": "3dR2AQCQzJ5f",
        "colab_type": "code",
        "colab": {}
      },
      "source": [
        ""
      ],
      "execution_count": 0,
      "outputs": []
    }
  ]
}