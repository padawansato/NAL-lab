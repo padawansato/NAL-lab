{
  "nbformat": 4,
  "nbformat_minor": 0,
  "metadata": {
    "colab": {
      "name": "sentence_classifier_lstm.ipynb",
      "version": "0.3.2",
      "provenance": [],
      "collapsed_sections": []
    },
    "kernelspec": {
      "name": "python3",
      "display_name": "Python 3"
    },
    "accelerator": "GPU"
  },
  "cells": [
    {
      "cell_type": "code",
      "metadata": {
        "id": "Yy8eIzlkZgPt",
        "colab_type": "code",
        "outputId": "9b450c6a-8eae-48e3-881b-9c3a464dbb65",
        "colab": {
          "base_uri": "https://localhost:8080/",
          "height": 143
        }
      },
      "source": [
        "# !pip install hoge\n",
        "# ドライブをマウント\n",
        "from google.colab import drive\n",
        "drive.mount('/content/gdrive')\n",
        "# カレントディレクトリの変更\n",
        "import os\n",
        "os.chdir('/content/gdrive/My Drive/NAL-LAB/Colab Notebooks/')\n",
        "!pwd"
      ],
      "execution_count": 0,
      "outputs": [
        {
          "output_type": "stream",
          "text": [
            "Drive already mounted at /content/gdrive; to attempt to forcibly remount, call drive.mount(\"/content/gdrive\", force_remount=True).\n",
            "/content/gdrive/My Drive/NAL-LAB/Colab Notebooks\n"
          ],
          "name": "stdout"
        }
      ]
    },
    {
      "cell_type": "code",
      "metadata": {
        "id": "AP05AqmkQoeo",
        "colab_type": "code",
        "outputId": "686d04da-5920-4c1a-bc43-fa40f5afa76c",
        "colab": {
          "base_uri": "https://localhost:8080/",
          "height": 531
        }
      },
      "source": [
        "# google colab で chainer などを使うための設定\n",
        "\n",
        "# colab の cuda に応じて、いい感じに chainer と Cupy をインストールするコマンド\n",
        "!curl https://colab.chainer.org/install | sh -\n",
        "\n",
        "# chainer のインストール確認コマンド\n",
        "!python -c \"import chainer; chainer.print_runtime_info()\""
      ],
      "execution_count": 0,
      "outputs": [
        {
          "output_type": "stream",
          "text": [
            "  % Total    % Received % Xferd  Average Speed   Time    Time     Time  Current\n",
            "                                 Dload  Upload   Total   Spent    Left  Speed\n",
            "100  1580  100  1580    0     0   3062      0 --:--:-- --:--:-- --:--:--  3056\n",
            "+ apt -y -q install cuda-libraries-dev-10-0\n",
            "Reading package lists...\n",
            "Building dependency tree...\n",
            "Reading state information...\n",
            "cuda-libraries-dev-10-0 is already the newest version (10.0.130-1).\n",
            "0 upgraded, 0 newly installed, 0 to remove and 8 not upgraded.\n",
            "+ pip install -q cupy-cuda100  chainer \n",
            "+ set +ex\n",
            "Installation succeeded!\n",
            "Platform: Linux-4.14.79+-x86_64-with-Ubuntu-18.04-bionic\n",
            "Chainer: 5.0.0\n",
            "NumPy: 1.14.6\n",
            "CuPy:\n",
            "  CuPy Version          : 5.2.0\n",
            "  CUDA Root             : /usr/local/cuda\n",
            "  CUDA Build Version    : 10000\n",
            "  CUDA Driver Version   : 10000\n",
            "  CUDA Runtime Version  : 10000\n",
            "  cuDNN Build Version   : 7301\n",
            "  cuDNN Version         : 7301\n",
            "  NCCL Build Version    : 2307\n",
            "iDeep: 2.0.0.post3\n"
          ],
          "name": "stdout"
        }
      ]
    },
    {
      "cell_type": "code",
      "metadata": {
        "id": "iIkHlSqeDBND",
        "colab_type": "code",
        "colab": {}
      },
      "source": [
        "import re\n",
        "import numpy as np\n",
        "import chainer\n",
        "import chainer.functions as F\n",
        "import chainer.links as L\n",
        "from chainer.training import extensions\n",
        "from chainer import serializers"
      ],
      "execution_count": 0,
      "outputs": []
    },
    {
      "cell_type": "code",
      "metadata": {
        "id": "2hb2IRYdJc-E",
        "colab_type": "code",
        "outputId": "dfa4dd9a-9c13-4f4c-bd1f-2eb79e59d540",
        "colab": {
          "base_uri": "https://localhost:8080/",
          "height": 51
        }
      },
      "source": [
        "print('GPU availability:', chainer.cuda.available)\n",
        "print('cuDNN availablility:', chainer.cuda.cudnn_enabled)"
      ],
      "execution_count": 0,
      "outputs": [
        {
          "output_type": "stream",
          "text": [
            "GPU availability: True\n",
            "cuDNN availablility: True\n"
          ],
          "name": "stdout"
        }
      ]
    },
    {
      "cell_type": "code",
      "metadata": {
        "id": "GRrijSWyb_5i",
        "colab_type": "code",
        "colab": {}
      },
      "source": [
        "# モデルの保存\n",
        "serializers.save_npz(\"sentence_classifier_lstm.npz\", model) # npz形式で書き出し"
      ],
      "execution_count": 0,
      "outputs": []
    },
    {
      "cell_type": "code",
      "metadata": {
        "id": "Sk987tWtcSgo",
        "colab_type": "code",
        "outputId": "b82f241d-bff8-4fed-d05b-cb083a5530be",
        "colab": {
          "base_uri": "https://localhost:8080/",
          "height": 269
        }
      },
      "source": [
        "# モデルのロード\n",
        "gpu = 0\n",
        "\n",
        "# 定数\n",
        "epoch_num = 10\n",
        "embed_size = 200\n",
        "hidden_size = 100\n",
        "batch_size = 5\n",
        "out_size = 2\n",
        "\n",
        "# モデルの定義\n",
        "model = L.Classifier(SentenceClassifierLSTM(\n",
        "    vocab_size=len(words),\n",
        "    embed_size=embed_size,\n",
        "    hidden_size=hidden_size,\n",
        "    out_size=out_size\n",
        "))\n",
        "\n",
        "# モデルのロード\n",
        "serializers.load_npz(\"sentence_classifier_lstm.npz\", model)"
      ],
      "execution_count": 0,
      "outputs": [
        {
          "output_type": "error",
          "ename": "NameError",
          "evalue": "ignored",
          "traceback": [
            "\u001b[0;31m---------------------------------------------------------------------------\u001b[0m",
            "\u001b[0;31mNameError\u001b[0m                                 Traceback (most recent call last)",
            "\u001b[0;32m<ipython-input-4-34324b0a536b>\u001b[0m in \u001b[0;36m<module>\u001b[0;34m()\u001b[0m\n\u001b[1;32m      9\u001b[0m \u001b[0;34m\u001b[0m\u001b[0m\n\u001b[1;32m     10\u001b[0m \u001b[0;31m# モデルの定義\u001b[0m\u001b[0;34m\u001b[0m\u001b[0;34m\u001b[0m\u001b[0;34m\u001b[0m\u001b[0m\n\u001b[0;32m---> 11\u001b[0;31m model = L.Classifier(SentenceClassifierLSTM(\n\u001b[0m\u001b[1;32m     12\u001b[0m     \u001b[0mvocab_size\u001b[0m\u001b[0;34m=\u001b[0m\u001b[0mlen\u001b[0m\u001b[0;34m(\u001b[0m\u001b[0mwords\u001b[0m\u001b[0;34m)\u001b[0m\u001b[0;34m,\u001b[0m\u001b[0;34m\u001b[0m\u001b[0;34m\u001b[0m\u001b[0m\n\u001b[1;32m     13\u001b[0m     \u001b[0membed_size\u001b[0m\u001b[0;34m=\u001b[0m\u001b[0membed_size\u001b[0m\u001b[0;34m,\u001b[0m\u001b[0;34m\u001b[0m\u001b[0;34m\u001b[0m\u001b[0m\n",
            "\u001b[0;31mNameError\u001b[0m: name 'SentenceClassifierLSTM' is not defined"
          ]
        }
      ]
    },
    {
      "cell_type": "code",
      "metadata": {
        "id": "Tdgl4gYUbuzJ",
        "colab_type": "code",
        "colab": {}
      },
      "source": [
        "# ファイル読み込み\n",
        "## リストへ格納\n",
        "with open(\"vector.txt\") as f:\n",
        "    type(f)\n",
        "    vector = [s.strip() for s in f.readlines()]"
      ],
      "execution_count": 0,
      "outputs": []
    },
    {
      "cell_type": "code",
      "metadata": {
        "id": "8-o78hEiTO-3",
        "colab_type": "code",
        "colab": {}
      },
      "source": [
        "# 上記とは別に取り込む floatとして\n",
        "import numpy as np\n",
        "vector_list = np.loadtxt('vector.txt', delimiter=',', dtype='float')"
      ],
      "execution_count": 0,
      "outputs": []
    },
    {
      "cell_type": "code",
      "metadata": {
        "id": "s5geJPc-bG3w",
        "colab_type": "code",
        "colab": {}
      },
      "source": [
        "tag_list = np.loadtxt('tag.txt', delimiter='\\n', dtype='int32')"
      ],
      "execution_count": 0,
      "outputs": []
    },
    {
      "cell_type": "code",
      "metadata": {
        "id": "l4_i3kmeVoWV",
        "colab_type": "code",
        "outputId": "afefca35-91b5-4509-e69d-3f16e714c70e",
        "colab": {
          "base_uri": "https://localhost:8080/",
          "height": 91
        }
      },
      "source": [
        "# データ分割\n",
        "import pandas as pd\n",
        "from sklearn.model_selection import train_test_split\n",
        "# 結果をシードで指定\n",
        "data_train, data_test, labels_train, labels_test = train_test_split(vector_list, tag_list, train_size=0.80,random_state=1)\n",
        "# リストの結合2\n",
        "vectors2 = list(zip(data_train,labels_train))\n",
        "# dataへの代入\n",
        "data = vectors2"
      ],
      "execution_count": 0,
      "outputs": [
        {
          "output_type": "stream",
          "text": [
            "/usr/local/lib/python3.6/dist-packages/sklearn/model_selection/_split.py:2179: FutureWarning: From version 0.21, test_size will always complement train_size unless both are specified.\n",
            "  FutureWarning)\n"
          ],
          "name": "stderr"
        }
      ]
    },
    {
      "cell_type": "code",
      "metadata": {
        "id": "twj2Z3Ihb5qr",
        "colab_type": "code",
        "outputId": "11fd1f61-a959-4c1a-ab36-5fa9d364e550",
        "colab": {
          "base_uri": "https://localhost:8080/",
          "height": 179
        }
      },
      "source": [
        "with open(\"tag.txt\") as f:\n",
        "    tag_list = [s.strip() for s in f.readlines()]\n",
        "    print(tag)"
      ],
      "execution_count": 0,
      "outputs": [
        {
          "output_type": "stream",
          "text": [
            "['1', '1', '1', '1', '1', '1', '1', '1', '1', '1', '1', '1', '0', '1', '0', '1', '1', '1', '1', '0', '0', '1', '1', '1', '0', '0', '0', '1', '0', '0', '1', '0', '0', '0', '0', '0', '0', '0']\n"
          ],
          "name": "stdout"
        }
      ]
    },
    {
      "cell_type": "code",
      "metadata": {
        "id": "CA5drPZbc10l",
        "colab_type": "code",
        "colab": {}
      },
      "source": [
        "# リストの結合\n",
        "#vectors = list(zip(vector,tags_list))"
      ],
      "execution_count": 0,
      "outputs": []
    },
    {
      "cell_type": "code",
      "metadata": {
        "id": "0z6jylmfWWnJ",
        "colab_type": "code",
        "colab": {}
      },
      "source": [
        "# リストの結合2\n",
        "vectors = list(zip(vector_list,tag_list))"
      ],
      "execution_count": 0,
      "outputs": []
    },
    {
      "cell_type": "code",
      "metadata": {
        "id": "8LZNQxW5d8xO",
        "colab_type": "code",
        "colab": {}
      },
      "source": [
        "# dataへの代入\n",
        "\n",
        "data = vectors"
      ],
      "execution_count": 0,
      "outputs": []
    },
    {
      "cell_type": "code",
      "metadata": {
        "id": "xrxDR7SuDP11",
        "colab_type": "code",
        "colab": {}
      },
      "source": [
        "class SentenceClassifierLSTM(chainer.Chain):\n",
        "    \n",
        "    def __init__(self, vocab_size, embed_size, hidden_size, out_size):\n",
        "        \"\"\"クラスの初期化\n",
        "        \n",
        "        Args:\n",
        "            vocab_size: 単語数\n",
        "            embed_size: 埋め込みベクトルサイズ\n",
        "            hidden_size: 隠れ層サイズ\n",
        "            out_size: 出力層サイズ\n",
        "        \"\"\"\n",
        "        super(SentenceClassifierLSTM, self).__init__(\n",
        "            # encode用のLink関数\n",
        "            xe = L.EmbedID(vocab_size, embed_size, ignore_label=-1),\n",
        "            eh = L.LSTM(embed_size, hidden_size),\n",
        "            hh = L.Linear(hidden_size, hidden_size),\n",
        "            # classifierのLink関数\n",
        "            hy = L.Linear(hidden_size, out_size)\n",
        "        )\n",
        "        \n",
        "    def __call__(self, x):\n",
        "        \"\"\"順伝播の計算を行う関数\n",
        "        \n",
        "        Args:\n",
        "            x:　入力値\n",
        "        Retruns:\n",
        "            y: \n",
        "        \"\"\"\n",
        "        # エンコード\n",
        "        x = F.transpose_sequence(x)\n",
        "        self.eh.reset_state()\n",
        "        for word in x:\n",
        "            e = self.xe(word)\n",
        "            h = self.eh(e)            \n",
        "        # 分類\n",
        "        y = self.hy(h)\n",
        "        return y"
      ],
      "execution_count": 0,
      "outputs": []
    },
    {
      "cell_type": "code",
      "metadata": {
        "id": "kw_e4xXvDSjG",
        "colab_type": "code",
        "colab": {}
      },
      "source": [
        "N = len(data)\n",
        "data_x, data_t = [], []\n",
        "for d in data:\n",
        "    data_x.append(d[0]) # 文書\n",
        "    data_t.append(d[1]) # ラベル\n",
        "\n",
        "def sentence2words(sentence):# 文章の前処理\n",
        "    stopwords = [\"i\", \"a\", \"an\", \"the\", \"and\", \"or\", \"if\", \"is\", \"are\", \"am\", \"it\", \"this\", \"that\", \"of\", \"from\", \"in\", \"on\"]\n",
        "    #sentence = sentence.lower() # 小文字化\n",
        "    #sentence = sentence.replace(\"\\n\", \"\") # 改行削除\n",
        "    #sentence = re.sub(re.compile(r\"[!-\\/:-@[-`{-~]\"), \" \", sentence) # 記号をスペースに置き換え\n",
        "    #sentence = sentence.split(\" \") # スペースで区切る\n",
        "    sentence_words = []\n",
        "    for word in sentence:\n",
        "        #if (re.compile(r\"^.*[0-9]+.*$\").fullmatch(word) is not None): # 数字が含まれるものは除外\n",
        "        #    continue\n",
        "        if word in stopwords: # ストップワードに含まれるものは除外\n",
        "            continue\n",
        "        sentence_words.append(word)        \n",
        "    return sentence_words # \n",
        "\n",
        "# 単語辞書 # \n",
        "words = {}\n",
        "for sentence in data_x:\n",
        "    sentence_words = sentence2words(sentence)\n",
        "    for word in sentence_words:\n",
        "        if word not in words:\n",
        "            words[word] = len(words)\n",
        "            \n",
        "# 文章を単語ID配列にする\n",
        "data_x_vec = []\n",
        "for sentence in data_x:\n",
        "    sentence_words = sentence2words(sentence)# \n",
        "    sentence_ids = []\n",
        "    for word in sentence_words:\n",
        "        sentence_ids.append(words[word])\n",
        "    data_x_vec.append(sentence_ids)\n",
        "    \n",
        "# 文章の長さを揃えるため、-1パディングする（系列を覚えておきやすくするため、前パディングする）\n",
        "max_sentence_size = 0\n",
        "for sentence_vec in data_x_vec:\n",
        "    if max_sentence_size < len(sentence_vec):\n",
        "        max_sentence_size = len(sentence_vec)\n",
        "for sentence_ids in data_x_vec:\n",
        "    while len(sentence_ids) < max_sentence_size:\n",
        "        sentence_ids.insert(0, -1) # 先頭に追加\n",
        "    \n",
        "# データセット\n",
        "data_x_vec = np.array(data_x_vec, dtype=\"int32\")# ここfloat\n",
        "data_t = np.array(data_t, dtype=\"int32\")\n",
        "dataset = []\n",
        "for x, t in zip(data_x_vec, data_t):\n",
        "    dataset.append((x, t)) "
      ],
      "execution_count": 0,
      "outputs": []
    },
    {
      "cell_type": "code",
      "metadata": {
        "id": "bOlLwjinDVP9",
        "colab_type": "code",
        "colab": {}
      },
      "source": [
        "gpu = 0\n",
        "\n",
        "# 定数\n",
        "epoch_num = 20\n",
        "embed_size = 200\n",
        "hidden_size = 100\n",
        "batch_size = 5\n",
        "out_size = 2\n",
        "\n",
        "# モデルの定義\n",
        "model = L.Classifier(SentenceClassifierLSTM(\n",
        "    vocab_size=len(words),\n",
        "    embed_size=embed_size,\n",
        "    hidden_size=hidden_size,\n",
        "    out_size=out_size\n",
        "))\n",
        "optimizer = chainer.optimizers.Adam()\n",
        "optimizer.setup(model)\n",
        "\n",
        "if gpu >= 0:\n",
        "    \n",
        "    chainer.cuda.get_device(gpu).use()\n",
        "    model.to_gpu(gpu)"
      ],
      "execution_count": 0,
      "outputs": []
    },
    {
      "cell_type": "code",
      "metadata": {
        "id": "v1SgOra7DdHk",
        "colab_type": "code",
        "outputId": "5c95ef80-cfd4-4af0-a825-68472984fdb4",
        "colab": {
          "base_uri": "https://localhost:8080/",
          "height": 494
        }
      },
      "source": [
        "# 学習\n",
        "# # 学習\n",
        "\n",
        "# split_at = int(len(dataset) * 0.8)\n",
        "# train, test = chainer.datasets.split_dataset(dataset, split_at)\n",
        "\n",
        "\n",
        "train, test = chainer.datasets.split_dataset_random(dataset, N-20)\n",
        "train_iter = chainer.iterators.SerialIterator(train, batch_size)\n",
        "test_iter = chainer.iterators.SerialIterator(test, batch_size, repeat=False, shuffle=False)\n",
        "updater = chainer.training.StandardUpdater(train_iter, optimizer, device=gpu)\n",
        "trainer = chainer.training.Trainer(updater, (epoch_num, \"epoch\"), out=\"result\")\n",
        "trainer.extend(extensions.Evaluator(test_iter, model, device=gpu))\n",
        "trainer.extend(extensions.LogReport(trigger=(1, \"epoch\")))\n",
        "trainer.extend(extensions.PrintReport( [\"epoch\", \"main/loss\", \"validation/main/loss\", \"main/accuracy\", \"validation/main/accuracy\", \"elapsed_time\"]))\n",
        "#trainer.extend(extensions.ProgressBar()) # プログレスバー出力\n",
        "trainer.run()"
      ],
      "execution_count": 0,
      "outputs": [
        {
          "output_type": "stream",
          "text": [
            "epoch       main/loss   validation/main/loss  main/accuracy  validation/main/accuracy  elapsed_time\n",
            "\u001b[J1           0.691186    0.71784               0.5            0.45                      15.3691       \n",
            "\u001b[J2           0.376685    0.714619              0.95           0.5                       20.4946       \n",
            "\u001b[J3           0.228143    0.711945              1              0.5                       24.6607       \n",
            "\u001b[J4           0.138408    0.70858               1              0.5                       29.7806       \n",
            "\u001b[J5           0.0971347   0.706399              1              0.5                       33.9659       \n",
            "\u001b[J6           0.0604543   0.703988              1              0.5                       39.1007       \n",
            "\u001b[J7           0.0404894   0.701838              1              0.5                       44.213        \n",
            "\u001b[J8           0.0300963   0.700609              1              0.5                       48.397        \n",
            "\u001b[J9           0.0235756   0.699227              1              0.55                      53.5359       \n",
            "\u001b[J10          0.0167963   0.698525              1              0.55                      57.8277       \n",
            "\u001b[J11          0.0139354   0.697962              1              0.6                       63.0179       \n",
            "\u001b[J12          0.0113247   0.697771              1              0.6                       68.1555       \n",
            "\u001b[J13          0.0101715   0.697769              1              0.6                       72.2825       \n",
            "\u001b[J14          0.00863184  0.697948              1              0.6                       77.3377       \n",
            "\u001b[J15          0.00696165  0.698205              1              0.55                      81.519        \n",
            "\u001b[J16          0.00654962  0.698726              1              0.55                      86.6311       \n",
            "\u001b[J17          0.00567759  0.699407              1              0.55                      91.804        \n",
            "\u001b[J18          0.00525502  0.699966              1              0.6                       96.0494       \n",
            "\u001b[J19          0.00489115  0.700861              1              0.6                       101.209       \n",
            "\u001b[J20          0.00454067  0.701521              1              0.6                       105.478       \n"
          ],
          "name": "stdout"
        }
      ]
    },
    {
      "cell_type": "code",
      "metadata": {
        "id": "YBf9YDVC5URd",
        "colab_type": "code",
        "colab": {}
      },
      "source": [
        "d[0]"
      ],
      "execution_count": 0,
      "outputs": []
    },
    {
      "cell_type": "code",
      "metadata": {
        "id": "7lYhDg_oA864",
        "colab_type": "code",
        "colab": {}
      },
      "source": [
        "d[1]"
      ],
      "execution_count": 0,
      "outputs": []
    },
    {
      "cell_type": "code",
      "metadata": {
        "id": "qx3mzDevA-9J",
        "colab_type": "code",
        "colab": {}
      },
      "source": [
        "print(data_x_vec[0])"
      ],
      "execution_count": 0,
      "outputs": []
    },
    {
      "cell_type": "code",
      "metadata": {
        "id": "iiw4RZ3ZORNn",
        "colab_type": "code",
        "colab": {}
      },
      "source": [
        "data_t"
      ],
      "execution_count": 0,
      "outputs": []
    },
    {
      "cell_type": "code",
      "metadata": {
        "id": "mYr14Ridaubg",
        "colab_type": "code",
        "colab": {}
      },
      "source": [
        "dataset"
      ],
      "execution_count": 0,
      "outputs": []
    },
    {
      "cell_type": "code",
      "metadata": {
        "id": "bjuMo1o2Pl0Q",
        "colab_type": "code",
        "colab": {}
      },
      "source": [
        "# tfの方\n",
        "import numpy as np\n",
        "tf_vector_list = np.loadtxt('tf.txt', delimiter=',', dtype='float32')\n",
        "tag_list = np.loadtxt('tag.txt', delimiter='\\n', dtype='int32')"
      ],
      "execution_count": 0,
      "outputs": []
    },
    {
      "cell_type": "code",
      "metadata": {
        "id": "tjukzri1Yuwc",
        "colab_type": "code",
        "colab": {}
      },
      "source": [
        "# tf-ifの方\n",
        "import numpy as np\n",
        "tf_idf_vector_list = np.loadtxt('tf-idf.txt', delimiter=',', dtype='float')\n",
        "tag_list = np.loadtxt('tag.txt', delimiter='\\n', dtype='int32')"
      ],
      "execution_count": 0,
      "outputs": []
    },
    {
      "cell_type": "code",
      "metadata": {
        "id": "yUOtTh338mOQ",
        "colab_type": "code",
        "colab": {}
      },
      "source": [
        "# リストの結合\n",
        "#vectors = list(zip(tf_vector_list,tag_list))\n",
        "vectors = list(zip(tf_idf_vector_list,tag_list))"
      ],
      "execution_count": 0,
      "outputs": []
    },
    {
      "cell_type": "code",
      "metadata": {
        "id": "Xp63I64f8wUM",
        "colab_type": "code",
        "colab": {}
      },
      "source": [
        "vectors"
      ],
      "execution_count": 0,
      "outputs": []
    },
    {
      "cell_type": "code",
      "metadata": {
        "id": "gxYaaq2w-8hU",
        "colab_type": "code",
        "colab": {}
      },
      "source": [
        "# arrayではないのかも\n",
        "# ファイル読み込み\n",
        "## リストへ格納\n",
        "with open(\"tf-idf.txt\") as f:\n",
        "    tf_idf_vector_list = [s.strip() for s in f.readlines()] # これだと、e+が残る"
      ],
      "execution_count": 0,
      "outputs": []
    },
    {
      "cell_type": "code",
      "metadata": {
        "id": "YQY4IhMbAa1w",
        "colab_type": "code",
        "colab": {}
      },
      "source": [
        "with open(\"tag.txt\") as f:\n",
        "    tag_list = [s.strip() for s in f.readlines()]"
      ],
      "execution_count": 0,
      "outputs": []
    },
    {
      "cell_type": "code",
      "metadata": {
        "id": "PB38LahvAoRP",
        "colab_type": "code",
        "colab": {}
      },
      "source": [
        "# リストの結合\n",
        "vectors = list(zip(tf_vector_list,tag_list))\n",
        "data = vectors"
      ],
      "execution_count": 0,
      "outputs": []
    },
    {
      "cell_type": "code",
      "metadata": {
        "id": "8wQ4G7VD9izn",
        "colab_type": "code",
        "colab": {}
      },
      "source": [
        "# リストの結合\n",
        "vectors = list(zip(tf_idf_vector_list,tag_list))\n",
        "data = vectors"
      ],
      "execution_count": 0,
      "outputs": []
    },
    {
      "cell_type": "markdown",
      "metadata": {
        "id": "SyCuPfSFoSil",
        "colab_type": "text"
      },
      "source": [
        "# 混同行列\n",
        "confusion_matrix()は、公式ドキュメントによると、第一引数が真値で、第二引数が識別器による判別値になっているようなので、それぞれそのように渡す。"
      ]
    },
    {
      "cell_type": "code",
      "metadata": {
        "id": "mq96d4zxNm3J",
        "colab_type": "code",
        "colab": {}
      },
      "source": [
        "from sklearn.metrics import confusion_matrix, accuracy_score"
      ],
      "execution_count": 0,
      "outputs": []
    },
    {
      "cell_type": "code",
      "metadata": {
        "id": "Zy_JLmpSNrah",
        "colab_type": "code",
        "outputId": "4f9d0733-c85f-482c-ea4c-9e949cb94a31",
        "colab": {
          "base_uri": "https://localhost:8080/",
          "height": 74
        }
      },
      "source": [
        "print(test_iter)"
      ],
      "execution_count": 0,
      "outputs": [
        {
          "output_type": "stream",
          "text": [
            "<chainer.iterators.serial_iterator.SerialIterator object at 0x7fbebbf7abe0>\n"
          ],
          "name": "stdout"
        }
      ]
    },
    {
      "cell_type": "code",
      "metadata": {
        "id": "RjAXqffuTBeR",
        "colab_type": "code",
        "outputId": "8539031a-c3ec-48bc-ff63-d57c75b2eb04",
        "colab": {
          "base_uri": "https://localhost:8080/",
          "height": 34
        }
      },
      "source": [
        "len(vector_list[0])"
      ],
      "execution_count": 0,
      "outputs": [
        {
          "output_type": "execute_result",
          "data": {
            "text/plain": [
              "300"
            ]
          },
          "metadata": {
            "tags": []
          },
          "execution_count": 9
        }
      ]
    },
    {
      "cell_type": "markdown",
      "metadata": {
        "id": "UJzccNlOGptu",
        "colab_type": "text"
      },
      "source": [
        ""
      ]
    }
  ]
}